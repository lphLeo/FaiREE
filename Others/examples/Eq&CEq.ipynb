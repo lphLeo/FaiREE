{
 "cells": [
  {
   "cell_type": "markdown",
   "metadata": {},
   "source": [
    "#### This notebook demonstrates the use of an odds-equalizing post-processing algorithm for bias mitigiation.\n"
   ]
  },
  {
   "cell_type": "code",
   "execution_count": 1,
   "metadata": {},
   "outputs": [
    {
     "name": "stderr",
     "output_type": "stream",
     "text": [
      "WARNING:root:No module named 'tempeh': LawSchoolGPADataset will be unavailable. To install, run:\n",
      "pip install 'aif360[LawSchoolGPA]'\n",
      "WARNING:root:No module named 'tensorflow': AdversarialDebiasing will be unavailable. To install, run:\n",
      "pip install 'aif360[AdversarialDebiasing]'\n",
      "WARNING:root:No module named 'tensorflow': AdversarialDebiasing will be unavailable. To install, run:\n",
      "pip install 'aif360[AdversarialDebiasing]'\n",
      "WARNING:root:No module named 'fairlearn': ExponentiatedGradientReduction will be unavailable. To install, run:\n",
      "pip install 'aif360[Reductions]'\n",
      "WARNING:root:No module named 'fairlearn': GridSearchReduction will be unavailable. To install, run:\n",
      "pip install 'aif360[Reductions]'\n",
      "WARNING:root:No module named 'fairlearn': GridSearchReduction will be unavailable. To install, run:\n",
      "pip install 'aif360[Reductions]'\n"
     ]
    }
   ],
   "source": [
    "%matplotlib inline\n",
    "# Load all necessary packages\n",
    "import sys\n",
    "import numpy as np\n",
    "import pandas as pd\n",
    "\n",
    "sys.path.append(\"../\")\n",
    "from aif360.datasets import AdultDataset, GermanDataset, CompasDataset\n",
    "from aif360.metrics import BinaryLabelDatasetMetric\n",
    "from aif360.metrics import ClassificationMetric\n",
    "from aif360.metrics.utils import compute_boolean_conditioning_vector\n",
    "\n",
    "from aif360.algorithms.preprocessing.optim_preproc_helpers.data_preproc_functions\\\n",
    "                import load_preproc_data_adult, load_preproc_data_compas\n",
    "\n",
    "from sklearn.preprocessing import scale\n",
    "from sklearn.linear_model import LogisticRegression\n",
    "\n",
    "from IPython.display import Markdown, display\n",
    "import matplotlib.pyplot as plt\n",
    "from tqdm import tqdm\n",
    "\n",
    "from sklearn.preprocessing import StandardScaler\n",
    "from sklearn.model_selection import train_test_split"
   ]
  },
  {
   "cell_type": "markdown",
   "metadata": {},
   "source": [
    "### Fairness metrics for original dataset"
   ]
  },
  {
   "cell_type": "code",
   "execution_count": 20,
   "metadata": {},
   "outputs": [],
   "source": [
    "## import dataset\n",
    "dataset_used = \"compas\" # \"adult\", \"german\", \"compas\"\n",
    "protected_attribute_used = 1 # 1, 2\n",
    "\n",
    "if dataset_used == \"adult\":\n",
    "    dataset_orig = AdultDataset()\n",
    "#     dataset_orig = load_preproc_data_adult()\n",
    "    if protected_attribute_used == 1:\n",
    "        privileged_groups = [{'sex': 1}]\n",
    "        unprivileged_groups = [{'sex': 0}]\n",
    "    else:\n",
    "        privileged_groups = [{'race': 1}]\n",
    "        unprivileged_groups = [{'race': 0}]\n",
    "    \n",
    "elif dataset_used == \"german\":\n",
    "    dataset_orig = GermanDataset()\n",
    "    if protected_attribute_used == 1:\n",
    "        privileged_groups = [{'sex': 1}]\n",
    "        unprivileged_groups = [{'sex': 0}]\n",
    "    else:\n",
    "        privileged_groups = [{'age': 1}]\n",
    "        unprivileged_groups = [{'age': 0}]\n",
    "    \n",
    "elif dataset_used == \"compas\":\n",
    "#     dataset_orig = CompasDataset()\n",
    "    dataset_orig = load_preproc_data_compas()\n",
    "    if protected_attribute_used == 1:\n",
    "        privileged_groups = [{'sex': 1}]\n",
    "        unprivileged_groups = [{'sex': 0}]\n",
    "    else:\n",
    "        privileged_groups = [{'race': 1}]\n",
    "        unprivileged_groups = [{'race': 0}]    \n",
    "\n",
    "# cost constraint of fnr will optimize generalized false negative rates, that of\n",
    "# fpr will optimize generalized false positive rates, and weighted will optimize\n",
    "# a weighted combination of both\n",
    "cost_constraint = \"fnr\" # \"fnr\", \"fpr\", \"weighted\"\n",
    "#random seed for calibrated equal odds prediction\n",
    "randseed = 12345679 "
   ]
  },
  {
   "cell_type": "code",
   "execution_count": 3,
   "metadata": {},
   "outputs": [],
   "source": [
    "# Functions\n",
    "\n",
    "def block(n, k, alpha):\n",
    "    if(alpha <= 0):\n",
    "        return 0\n",
    "    ans = 0\n",
    "    temp = 0\n",
    "    for i in range(k + 1, n + 1):\n",
    "        temp += np.log(i)\n",
    "    for i in range(1, n - k + 1):\n",
    "        temp -= np.log(i)\n",
    "    temp = temp + k * np.log(alpha) + (n - k) * np.log(1 - alpha)\n",
    "    ans += np.exp(temp)\n",
    "    if(k < n):\n",
    "        for j in range(k + 1, n + 1):\n",
    "            temp = temp + np.log(n - j + 1) -np.log(j) + np.log(alpha) - np.log(1 - alpha)\n",
    "            ans += np.exp(temp)\n",
    "    return ans\n",
    "\n",
    "# def L(n0, n1, k0, k1, alpha, delta):\n",
    "#     ans = 0\n",
    "#     N = 100\n",
    "#     for i in range(N):\n",
    "#         q = np.random.beta(k1, n1 - k1 + 1)\n",
    "#         ans += block(n0, k0, q - alpha)\n",
    "#         if(ans > delta * N):\n",
    "#             return 1\n",
    "#     for i in range(N):\n",
    "#         q = np.random.beta(k0, n0 - k0 + 1)\n",
    "#         ans += block(n1, k1, q - alpha)\n",
    "#         if(ans > delta * N):\n",
    "#             return 1\n",
    "#     ans = ans / N\n",
    "#     return ans\n",
    "\n",
    "# def L_(n0, n1, k0, k1, alpha, delta):\n",
    "#     ans = 0\n",
    "#     N = 100\n",
    "#     for i in range(N):\n",
    "#         q = 1\n",
    "#         if(n1 > k1):\n",
    "#             q = np.random.beta(k1 + 1, n1 - k1)\n",
    "#         ans += block(n0, k0, q - alpha)\n",
    "#         if(ans > delta * N):\n",
    "#             return 1\n",
    "#     for i in range(N):\n",
    "#         q = 1\n",
    "#         if(n0 > k0):\n",
    "#             q = np.random.beta(k0 + 1, n0 - k0)\n",
    "#         ans += block(n1, k1, q - alpha)\n",
    "#         if(ans > delta * N):\n",
    "#             return 1\n",
    "#     ans = ans / N\n",
    "#     return ans\n",
    "\n",
    "def L(n0, n1, k0, k1, alpha, delta):\n",
    "    ans = 0\n",
    "    N = 10000\n",
    "    for i in range(N):\n",
    "        qq = np.random.beta(k1, n1 - k1 + 1)\n",
    "        pp = np.random.beta(k0, n0 - k0 + 1)\n",
    "        if(abs(qq - pp) > alpha):\n",
    "            ans += 1\n",
    "        if(ans > delta * N):\n",
    "            return 1\n",
    "    return ans * 1.0 / N\n",
    "\n",
    "def L_(n0, n1, k0, k1, alpha, delta):\n",
    "    ans = 0\n",
    "    N = 10000\n",
    "    for i in range(N):\n",
    "        qq = np.random.beta(k1, n1 - k1 + 1)\n",
    "        pp = np.random.beta(k0, n0 - k0 + 1)\n",
    "        qq_ = np.random.beta(k1 + 1, n1 - k1)\n",
    "        pp_ = np.random.beta(k0 + 1, n0 - k0)\n",
    "        if(qq - pp_ > alpha or pp - qq_ > alpha):\n",
    "            ans += 1\n",
    "        if(ans > delta * N):\n",
    "            return 1\n",
    "    return ans * 1.0 / N\n",
    "\n",
    "def M(k_00, k_01, k_10, k_11, n_00, n_01, n_10, n_11):\n",
    "    return k_10 / (n_10 + 1) * (1 - p1) * p_y0 + k_11 / (n_11 + 1) * p1 * p_y1 + (n_00 + 0.5 - k_00) / (n_00 + 1) * (1 - p1) * (1 - p_y0) + (n_01 + 0.5 - k_01) / (n_01 + 1) * p1 * (1 - p_y1)\n",
    "\n",
    "def DEOO(th_0, th_1):\n",
    "    c10 = 0\n",
    "    c11 = 0\n",
    "    C10 = 0\n",
    "    C11 = 0\n",
    "    for i in range(len(te_10)):\n",
    "        if(te_10[i] > 0.5):\n",
    "            c10 += 1\n",
    "        if(te_10[i] > th_0):\n",
    "            C10 += 1\n",
    "    for i in range(len(te_11)):\n",
    "        if(te_11[i] > 0.5):\n",
    "            c11 += 1\n",
    "        if(te_11[i] > th_1):\n",
    "            C11 += 1\n",
    "    DEOO = c10 / len(te_10) - c11 / len(te_11)\n",
    "    DEOO_ = C10 / len(te_10) - C11 / len(te_11)\n",
    "    ans = np.zeros(2)\n",
    "    ans[0] = DEOO\n",
    "    ans[1] = DEOO_\n",
    "    return ans\n",
    "\n",
    "def DPE(th_0, th_1):\n",
    "    c00 = 0\n",
    "    c01 = 0\n",
    "    C00 = 0\n",
    "    C01 = 0\n",
    "    for i in range(len(te_00)):\n",
    "        if(te_00[i] > 0.5):\n",
    "            c00 += 1\n",
    "        if(te_00[i] > th_0):\n",
    "            C00 += 1\n",
    "    for i in range(len(te_01)):\n",
    "        if(te_01[i] > 0.5):\n",
    "            c01 += 1\n",
    "        if(te_01[i] > th_1):\n",
    "            C01 += 1\n",
    "    DPE = c00 / len(te_00) - c01 / len(te_01)\n",
    "    DPE_ = C00 / len(te_00) - C01 / len(te_01)\n",
    "    ans = np.zeros(2)\n",
    "    ans[0] = DPE\n",
    "    ans[1] = DPE_\n",
    "    return ans\n",
    "\n",
    "def mis(th_0, th_1):\n",
    "    c10_ = 0\n",
    "    c11_ = 0\n",
    "    C10_ = 0\n",
    "    C11_ = 0\n",
    "    for i in range(len(te_10)):\n",
    "        if(te_10[i] < 0.5):\n",
    "            c10_ += 1\n",
    "        if(te_10[i] < th_0):\n",
    "            C10_ += 1\n",
    "    for i in range(len(te_11)):\n",
    "        if(te_11[i] < 0.5):\n",
    "            c11_ += 1\n",
    "        if(te_11[i] < th_1):\n",
    "            C11_ += 1\n",
    "    for i in range(len(te_00)):\n",
    "        if(te_00[i] > 0.5):\n",
    "            c10_ += 1\n",
    "        if(te_00[i] > th_0):\n",
    "            C10_ += 1\n",
    "    for i in range(len(te_01)):\n",
    "        if(te_01[i] > 0.5):\n",
    "            c11_ += 1\n",
    "        if(te_01[i] > th_1):\n",
    "            C11_ += 1\n",
    "    mis = (c10_ + c11_) / (len(te_10) + len(te_11) + len(te_00) + len(te_01))\n",
    "    mis_ = (C10_ + C11_) / (len(te_10) + len(te_11) + len(te_00) + len(te_01))\n",
    "    ans = np.zeros(2)\n",
    "    ans[0] = mis\n",
    "    ans[1] = mis_\n",
    "    return ans\n",
    "\n",
    "def E(t):\n",
    "    ans1 = 0\n",
    "    ans2 = 0\n",
    "    for i in range(n_11):\n",
    "        if(t_11[i] > p1 * p_y1 / (2 * p1 * p_y1 - t)):\n",
    "            ans1 += 1\n",
    "    for i in range(n_10):\n",
    "        if(t_10[i] > (1 - p1) * p_y0 / (2 * (1 - p1) * p_y0 + t)):\n",
    "            ans2 += 1\n",
    "    return ans1 / n_11 - ans2 / n_10"
   ]
  },
  {
   "cell_type": "code",
   "execution_count": 7,
   "metadata": {},
   "outputs": [],
   "source": [
    "L_new = np.load(\"L_new_62_274.npy\")"
   ]
  },
  {
   "cell_type": "code",
   "execution_count": 21,
   "metadata": {},
   "outputs": [],
   "source": [
    "scale_orig = StandardScaler()\n",
    "X = scale_orig.fit_transform(dataset_orig.features)\n",
    "l_00 = np.where((dataset_orig.protected_attributes[:,1] == 0)& (dataset_orig.labels[:,0] == 0))\n",
    "l_01 = np.where((dataset_orig.protected_attributes[:,1] == 1)& (dataset_orig.labels[:,0] == 0))\n",
    "l_10 = np.where((dataset_orig.protected_attributes[:,1] == 0)& (dataset_orig.labels[:,0] == 1))\n",
    "l_11 = np.where((dataset_orig.protected_attributes[:,1] == 1)& (dataset_orig.labels[:,0] == 1))\n",
    "x_00 = X[l_00[0]]\n",
    "x_01 = X[l_01[0]]\n",
    "x_10 = X[l_10[0]]\n",
    "x_11 = X[l_11[0]]\n",
    "y_00 = np.zeros(len(x_00), dtype = int)\n",
    "y_01 = np.zeros(len(x_01), dtype = int)\n",
    "y_10 = np.ones(len(x_10), dtype = int)\n",
    "y_11 = np.ones(len(x_11), dtype = int)\n",
    "X_0 = np.append(x_00, x_10, axis = 0)\n",
    "Y_0 = np.append(y_00, y_10)\n",
    "X_1 = np.append(x_01, x_11, axis = 0)\n",
    "Y_1 = np.append(y_01, y_11)"
   ]
  },
  {
   "cell_type": "code",
   "execution_count": 25,
   "metadata": {},
   "outputs": [
    {
     "name": "stderr",
     "output_type": "stream",
     "text": [
      "100%|██████████| 10/10 [09:43<00:00, 58.37s/it]\n"
     ]
    }
   ],
   "source": [
    "DEOO_fin = [[], [], [], [], [], []]\n",
    "DPE_fin = [[], [], [], [], [], []]\n",
    "mis_fin = [[], [], [], [], [], []]\n",
    "DEOO_fin_zeng = [[], [], [], [], [], []]\n",
    "DPE_fin_zeng = [[], [], [], [], [], []]\n",
    "mis_fin_zeng = [[], [], [], [], [], []]\n",
    "delta = 0.1\n",
    "for step in tqdm(range(10)):\n",
    "    X_tr_00, X_te_00, Y_tr_00, Y_te_00 = train_test_split(x_00, y_00, test_size = 0.2)\n",
    "    X_tr_01, X_te_01, Y_tr_01, Y_te_01 = train_test_split(x_01, y_01, test_size = 0.2)\n",
    "    X_tr_10, X_te_10, Y_tr_10, Y_te_10 = train_test_split(x_10, y_10, test_size = 0.2)\n",
    "    X_tr_11, X_te_11, Y_tr_11, Y_te_11 = train_test_split(x_11, y_11, test_size = 0.2)\n",
    "    X_tr_00r, X_tr_00c, Y_tr_00r, Y_tr_00c = train_test_split(X_tr_00, Y_tr_00, test_size = 0.7)\n",
    "    X_tr_01r, X_tr_01c, Y_tr_01r, Y_tr_01c = train_test_split(X_tr_01, Y_tr_01, test_size = 0.7)\n",
    "    X_tr_10r, X_tr_10c, Y_tr_10r, Y_tr_10c = train_test_split(X_tr_10, Y_tr_10, test_size = 0.7)\n",
    "    X_tr_11r, X_tr_11c, Y_tr_11r, Y_tr_11c = train_test_split(X_tr_11, Y_tr_11, test_size = 0.7)\n",
    "    X_tr_0 = np.append(X_tr_00, X_tr_10, axis = 0)\n",
    "    Y_tr_0 = np.append(Y_tr_00, Y_tr_10)\n",
    "    X_tr_1 = np.append(X_tr_01, X_tr_11, axis = 0)\n",
    "    Y_tr_1 = np.append(Y_tr_01, Y_tr_11)\n",
    "    X_tr_0r = np.append(X_tr_00r, X_tr_10r, axis = 0)\n",
    "    Y_tr_0r = np.append(Y_tr_00r, Y_tr_10r)\n",
    "    X_tr_1r = np.append(X_tr_01r, X_tr_11r, axis = 0)\n",
    "    Y_tr_1r = np.append(Y_tr_01r, Y_tr_11r)\n",
    "    X_tr_0c = np.append(X_tr_00c, X_tr_10c, axis = 0)\n",
    "    Y_tr_0c = np.append(Y_tr_00c, Y_tr_10c)\n",
    "    X_tr_1c = np.append(X_tr_01c, X_tr_11c, axis = 0)\n",
    "    Y_tr_1c = np.append(Y_tr_01c, Y_tr_11c)\n",
    "    X_tr_r = np.append(X_tr_0r, X_tr_1r, axis = 0)\n",
    "    Y_tr_r = np.append(Y_tr_0r, Y_tr_1r)\n",
    "    X_tr_c = np.append(X_tr_0c, X_tr_1c, axis = 0)\n",
    "    Y_tr_c = np.append(Y_tr_0c, Y_tr_1c)\n",
    "    X_te_0 = np.append(X_te_00, X_te_10, axis = 0)\n",
    "    Y_te_0 = np.append(Y_te_00, Y_te_10)\n",
    "    X_te_1 = np.append(X_te_01, X_te_11, axis = 0)\n",
    "    Y_te_1 = np.append(Y_te_01, Y_te_11)\n",
    "    X_te = np.append(X_te_0, X_te_1, axis = 0)\n",
    "    Y_te = np.append(Y_te_0, Y_te_1)\n",
    "    X_tr = np.append(X_tr_0, X_tr_1, axis = 0)\n",
    "    Y_tr = np.append(Y_tr_0, Y_tr_1)\n",
    "    log_reg = LogisticRegression(max_iter = 10000)\n",
    "    log_reg_ = LogisticRegression(max_iter = 10000)\n",
    "    clm = log_reg.fit(X_tr_r, Y_tr_r)\n",
    "    clm_ = log_reg_.fit(X_tr, Y_tr)\n",
    "    n_00 = 0\n",
    "    n_01 = 0\n",
    "    n_10 = 0\n",
    "    n_11 = 0\n",
    "    t_00 = []\n",
    "    t_01 = []\n",
    "    t_10 = []\n",
    "    t_11 = []\n",
    "    prob_0 = clm_.predict_proba(X_tr_0)\n",
    "    prob_1 = clm_.predict_proba(X_tr_1)\n",
    "    for i in range(len(X_tr_0)):\n",
    "        if(Y_tr_0[i] == 1):\n",
    "            n_10 += 1\n",
    "            t_10.append(prob_0[i, 1])\n",
    "        else:\n",
    "            n_00 += 1\n",
    "            t_00.append(prob_0[i, 1])\n",
    "    for i in range(len(X_tr_1)):\n",
    "        if(Y_tr_1[i] == 1):\n",
    "            n_11 += 1\n",
    "            t_11.append(prob_1[i, 1])\n",
    "        else:\n",
    "            n_01 += 1\n",
    "            t_01.append(prob_1[i, 1])\n",
    "    t_00 = np.array(t_00)\n",
    "    t_01 = np.array(t_01)\n",
    "    t_10 = np.array(t_10)\n",
    "    t_11 = np.array(t_11)\n",
    "    th_0 = np.zeros(6)\n",
    "    th_1 = np.zeros(6)\n",
    "    p1 = (n_01 + n_11) / (n_01 + n_11 + n_10 + n_00)\n",
    "    p_y0 = n_10 / (n_10 + n_00)\n",
    "    p_y1 = n_11 / (n_11 + n_01)\n",
    "    for aa in range(6):\n",
    "        alpha = aa * 0.02 + 0.06\n",
    "        t = 0\n",
    "        if(E(0) <= alpha and E(0) + alpha >= 0):\n",
    "            t = 0\n",
    "        elif(E(0) > alpha):\n",
    "            for i in range(500):\n",
    "                if(E(0.001 * (i + 1)) <= alpha):\n",
    "                    t = 0.001 * i\n",
    "                    break\n",
    "        elif(E(0) + alpha < 0) :\n",
    "            for i in range(500):\n",
    "                if(E(-0.001 * (i + 1)) + alpha >= 0):\n",
    "                    t = -0.001 * (i + 1)\n",
    "                    break\n",
    "        th_0[aa] = (1 - p1) * p_y0 / (2 * (1 - p1) * p_y0 + t)\n",
    "        th_1[aa] = p1 * p_y1 / (2 * p1 * p_y1 - t)\n",
    "    te_00 = []\n",
    "    te_01 = []\n",
    "    te_10 = []\n",
    "    te_11 = []\n",
    "    for i in range(len(X_te_0)):\n",
    "        if(Y_te_0[i] == 1):\n",
    "            te_10.append(clm_.predict_proba(X_te_0)[i, 1])\n",
    "        else:\n",
    "            te_00.append(clm_.predict_proba(X_te_0)[i, 1])\n",
    "    for i in range(len(X_te_1)):\n",
    "        if(Y_te_1[i] == 1):\n",
    "            te_11.append(clm_.predict_proba(X_te_1)[i, 1])\n",
    "        else:\n",
    "            te_01.append(clm_.predict_proba(X_te_1)[i, 1])\n",
    "    te_00 = np.array(te_00)\n",
    "    te_01 = np.array(te_01)\n",
    "    te_10 = np.array(te_10)\n",
    "    te_11 = np.array(te_11)\n",
    "    for aa in range(6):\n",
    "        DEOO_fin_zeng[aa].append(DEOO(th_0[aa], th_1[aa])[1])\n",
    "        DPE_fin_zeng[aa].append(DPE(th_0[aa], th_1[aa])[1])\n",
    "        mis_fin_zeng[aa].append(mis(th_0[aa], th_1[aa])[1])\n",
    "    n_00 = 0\n",
    "    n_01 = 0\n",
    "    n_10 = 0\n",
    "    n_11 = 0\n",
    "    t_00 = []\n",
    "    t_01 = []\n",
    "    t_10 = []\n",
    "    t_11 = []\n",
    "    prob_0 = clm.predict_proba(X_tr_0c)\n",
    "    prob_1 = clm.predict_proba(X_tr_1c)\n",
    "    for i in range(len(X_tr_0c)):\n",
    "        if(Y_tr_0c[i] == 1):\n",
    "            n_10 += 1\n",
    "            t_10.append(prob_0[i, 1])\n",
    "        else:\n",
    "            n_00 += 1\n",
    "            t_00.append(prob_0[i, 1])\n",
    "    for i in range(len(X_tr_1c)):\n",
    "        if(Y_tr_1c[i] == 1):\n",
    "            n_11 += 1\n",
    "            t_11.append(prob_1[i, 1])\n",
    "        else:\n",
    "            n_01 += 1\n",
    "            t_01.append(prob_1[i, 1])\n",
    "    t_00 = np.array(t_00)\n",
    "    t_01 = np.array(t_01)\n",
    "    t_10 = np.array(t_10)\n",
    "    t_11 = np.array(t_11)\n",
    "    t_00 = np.sort(t_00)\n",
    "    t_01 = np.sort(t_01)\n",
    "    t_10 = np.sort(t_10)\n",
    "    t_11 = np.sort(t_11)\n",
    "    p1 = (n_01 + n_11) / (n_01 + n_11 + n_10 + n_00)\n",
    "    p_y0 = n_10 / (n_10 + n_00)\n",
    "    p_y1 = n_11 / (n_11 + n_01)\n",
    "    cnt = np.zeros(6)\n",
    "    min = np.ones(6) * 10000\n",
    "    th_0 = -1 * np.ones(6)\n",
    "    th_1 = -1 * np.ones(6)\n",
    "    for k_10 in range(1, n_10 + 1):\n",
    "        mmin = 10000\n",
    "        for j in range(1, n_11 + 1):\n",
    "            val = 1 / (2 - (1 - p1) * p_y0 * (1 / t_10[k_10 - 1] - 2) / (p1 * p_y1))\n",
    "            tp = abs(t_11[j - 1] - val)\n",
    "            if(tp < mmin):\n",
    "                mmin = tp\n",
    "                k_11 = j\n",
    "        k_00 = n_00\n",
    "        if(t_00[0] > t_10[k_10 - 1]):\n",
    "            k_00 = 0\n",
    "        for i in range(n_00 - 1):\n",
    "            if(t_00[i] <= t_10[k_10 - 1] and t_00[i + 1] > t_10[k_10 - 1]):\n",
    "                k_00 = i + 1\n",
    "                break\n",
    "        k_01 = n_01\n",
    "        if(t_01[0] > t_11[k_11 - 1]):\n",
    "            k_01 = 0\n",
    "        for i in range(n_01 - 1):\n",
    "            if(t_01[i] <= t_11[k_11 - 1] and t_01[i + 1] > t_11[k_11 - 1]):\n",
    "                k_01 = i + 1\n",
    "                break\n",
    "        if(k_01 != 0 and k_01 != n_01 and k_00 != 0 and k_00 != n_00):\n",
    "            for aa in range(6):\n",
    "                alpha = aa * 0.02 + 0.06\n",
    "                if(L(n_10, n_11, k_10, k_11, alpha, delta) < 1):\n",
    "                    if(L_(n_00, n_01, k_00, k_01, alpha, delta) < 1):\n",
    "                        cnt[aa] += 1\n",
    "                        if(M(k_00, k_01, k_10, k_11, n_00, n_01, n_10, n_11) < min[aa]):\n",
    "                            min[aa] = M(k_00, k_01, k_10, k_11, n_00, n_01, n_10, n_11)\n",
    "                            th_0[aa] = t_10[k_10 - 1]\n",
    "                            th_1[aa] = t_11[k_11 - 1]\n",
    "    te_00 = []\n",
    "    te_01 = []\n",
    "    te_10 = []\n",
    "    te_11 = []\n",
    "    for i in range(len(X_te_0)):\n",
    "        if(Y_te_0[i] == 1):\n",
    "            te_10.append(clm.predict_proba(X_te_0)[i, 1])\n",
    "        else:\n",
    "            te_00.append(clm.predict_proba(X_te_0)[i, 1])\n",
    "    for i in range(len(X_te_1)):\n",
    "        if(Y_te_1[i] == 1):\n",
    "            te_11.append(clm.predict_proba(X_te_1)[i, 1])\n",
    "        else:\n",
    "            te_01.append(clm.predict_proba(X_te_1)[i, 1])\n",
    "    te_00 = np.array(te_00)\n",
    "    te_01 = np.array(te_01)\n",
    "    te_10 = np.array(te_10)\n",
    "    te_11 = np.array(te_11)\n",
    "    for aa in range(6):\n",
    "        if(th_0[aa] > -1):\n",
    "            DEOO_fin[aa].append(DEOO(th_0[aa], th_1[aa])[1])\n",
    "            DPE_fin[aa].append(DPE(th_0[aa], th_1[aa])[1])\n",
    "            mis_fin[aa].append(mis(th_0[aa], th_1[aa])[1])\n",
    "        # print(DEOO(th_0[aa], th_1[aa])[1])\n",
    "        # print(DPE(th_0[aa], th_1[aa])[1])\n",
    "        # print(mis(th_0[aa], th_1[aa])[1])\n",
    "        # print(min[aa])\n",
    "        # print(cnt[aa])\n",
    "DEOO_fin = np.array(DEOO_fin)\n",
    "DPE_fin = np.array(DPE_fin)\n",
    "mis_fin = np.array(mis_fin)\n",
    "DEOO_fin_zeng = np.array(DEOO_fin_zeng)\n",
    "DPE_fin_zeng = np.array(DPE_fin_zeng)\n",
    "mis_fin_zeng = np.array(mis_fin_zeng)\n",
    "# np.save(\"DEOO_eq_ours_111.npy\", DEOO_fin)\n",
    "# np.save(\"DPE_eq_ours_111.npy\", DPE_fin)\n",
    "# np.save(\"mis_eq_ours_111.npy\", mis_fin)\n",
    "# np.save(\"DEOO_odds_zeng_111.npy\", DEOO_fin_zeng)\n",
    "# np.save(\"DPE_odds_zeng_111.npy\", DPE_fin_zeng)\n",
    "# np.save(\"mis_odds_zeng_111.npy\", mis_fin_zeng)"
   ]
  },
  {
   "cell_type": "code",
   "execution_count": 26,
   "metadata": {},
   "outputs": [],
   "source": [
    "for i in range(6):\n",
    "    DEOO_fin[i] = np.array(DEOO_fin[i])\n",
    "    mis_fin[i] = np.array(mis_fin[i])\n",
    "    DEOO_fin_zeng[i] = np.array(DEOO_fin_zeng[i])\n",
    "    mis_fin_zeng[i] = np.array(mis_fin_zeng[i])\n",
    "    DPE_fin[i] = np.array(DPE_fin[i])\n",
    "    DPE_fin_zeng[i] = np.array(DPE_fin_zeng[i])\n"
   ]
  },
  {
   "cell_type": "code",
   "execution_count": 23,
   "metadata": {},
   "outputs": [],
   "source": [
    "DEOO_fin_ = [[], [], [], [], [], []]\n",
    "DPE_fin_ = [[], [], [], [], [], []]\n",
    "mis_fin_ = [[], [], [], [], [], []]\n",
    "DEOO_fin_zeng_ = [[], [], [], [], [], []]\n",
    "DPE_fin_zeng_ = [[], [], [], [], [], []]\n",
    "mis_fin_zeng_ = [[], [], [], [], [], []]\n",
    "for i in range(6):\n",
    "    DEOO_fin_[i] = DEOO_fin[i][:497]\n",
    "    DPE_fin_[i] = DPE_fin[i][:497]\n",
    "    mis_fin_[i] = mis_fin[i][:497]\n",
    "    DEOO_fin_zeng_[i] = DEOO_fin_zeng[i][:497]\n",
    "    DPE_fin_zeng_[i] = DPE_fin_zeng[i][:497]\n",
    "    mis_fin_zeng_[i] = mis_fin_zeng[i][:497]\n",
    "DEOO_fin_ = np.array(DEOO_fin_)\n",
    "DPE_fin_ = np.array(DPE_fin_)\n",
    "mis_fin_ = np.array(mis_fin_)\n",
    "DEOO_fin_zeng_ = np.array(DEOO_fin_zeng_)\n",
    "DPE_fin_zeng_ = np.array(DPE_fin_zeng_)\n",
    "mis_fin_zeng_ = np.array(mis_fin_zeng_)"
   ]
  },
  {
   "cell_type": "code",
   "execution_count": 24,
   "metadata": {},
   "outputs": [],
   "source": [
    "np.save(\"DEOO_eq_ours_0926_00001.npy\", DEOO_fin_)\n",
    "np.save(\"DPE_eq_ours_0926_00001.npy\", DPE_fin_)\n",
    "np.save(\"mis_eq_ours_0926_00001.npy\", mis_fin_)\n",
    "np.save(\"DEOO_odds_zeng_0926_00001.npy\", DEOO_fin_zeng_)\n",
    "np.save(\"DPE_odds_zeng_0926_00001.npy\", DPE_fin_zeng_)\n",
    "np.save(\"mis_odds_zeng_0926_00001.npy\", mis_fin_zeng_)"
   ]
  },
  {
   "cell_type": "code",
   "execution_count": 27,
   "metadata": {},
   "outputs": [
    {
     "name": "stdout",
     "output_type": "stream",
     "text": [
      "0.01672399672399672\n",
      "0.06751296751296737\n",
      "0.02388052034775464\n",
      "0.05292920342617923\n",
      "0.5139886578449905\n",
      "0.059322959322959314\n",
      "0.10277368277368272\n",
      "0.0414005213750947\n",
      "0.07904675681575934\n",
      "0.6529300567107751\n",
      "haha\n",
      "0.055702975702975686\n",
      "0.13728910728910723\n",
      "0.05273978759743679\n",
      "0.08484288117527705\n",
      "0.6014177693761815\n",
      "0.05689871689871688\n",
      "0.10277368277368272\n",
      "0.039844101141631665\n",
      "0.07048644553171267\n",
      "0.6529300567107751\n",
      "haha\n",
      "0.09073437073437071\n",
      "0.15678678678678673\n",
      "0.048302962591979054\n",
      "0.09226862374953451\n",
      "0.6537807183364839\n",
      "0.05689871689871688\n",
      "0.10277368277368272\n",
      "0.039844101141631665\n",
      "0.07048644553171267\n",
      "0.6529300567107751\n",
      "haha\n",
      "0.09835653835653835\n",
      "0.15678678678678673\n",
      "0.05670275198726099\n",
      "0.13310603433884238\n",
      "0.6704158790170133\n",
      "0.05689871689871688\n",
      "0.10277368277368272\n",
      "0.039844101141631665\n",
      "0.07048644553171267\n",
      "0.6529300567107751\n",
      "haha\n",
      "0.11782145782145784\n",
      "0.1598170898170898\n",
      "0.059684606592955027\n",
      "0.11404309691669555\n",
      "0.6756143667296786\n",
      "0.08235326235326233\n",
      "0.1802020202020201\n",
      "0.05555213108859523\n",
      "0.10097019429569415\n",
      "0.6531190926275993\n",
      "haha\n",
      "0.11933387933387933\n",
      "0.16785694785694785\n",
      "0.05818725841455742\n",
      "0.11404309691669555\n",
      "0.6751417769376181\n",
      "0.11232323232323231\n",
      "0.2346328146328146\n",
      "0.06473013060060868\n",
      "0.1117206662300471\n",
      "0.654820415879017\n",
      "haha\n"
     ]
    }
   ],
   "source": [
    "for i in range(6):\n",
    "    print(np.mean(abs(DEOO_fin[i])))\n",
    "    print(np.percentile(abs(DEOO_fin[i]), 95))\n",
    "    print(np.mean(abs(DPE_fin[i])))\n",
    "    print(np.percentile(abs(DPE_fin[i]),95))\n",
    "    print(1-np.mean(abs(mis_fin[i])))\n",
    "    print(np.mean(abs(DEOO_fin_zeng[i])))\n",
    "    print(np.percentile(abs(DEOO_fin_zeng[i]), 95))\n",
    "    print(np.mean(abs(DPE_fin_zeng[i])))\n",
    "    print(np.percentile(abs(DPE_fin_zeng[i]), 95))\n",
    "    print(1-np.mean(abs(mis_fin_zeng[i])))\n",
    "    print(\"haha\")"
   ]
  },
  {
   "cell_type": "code",
   "execution_count": 25,
   "metadata": {},
   "outputs": [
    {
     "name": "stdout",
     "output_type": "stream",
     "text": [
      "0.07676816178962835\n",
      "0.06547197857986684\n",
      "0.8457552509396418\n",
      "0.06599246161764522\n",
      "nan\n",
      "0.8474757904045987\n",
      "haha\n",
      "0.09502786879072048\n",
      "0.06984632304898324\n",
      "0.846024320141499\n",
      "0.08512463124066334\n",
      "nan\n",
      "0.8475467609993368\n",
      "haha\n",
      "0.11212449315206068\n",
      "0.0731404670644977\n",
      "0.8461908025646695\n",
      "0.10129509534390338\n",
      "nan\n",
      "0.8475666592969269\n",
      "haha\n",
      "0.12546385216987413\n",
      "0.0757734783621335\n",
      "0.8462657528189255\n",
      "0.10378923913179929\n",
      "nan\n",
      "0.8475677647579041\n",
      "haha\n",
      "0.14211953451587397\n",
      "0.07810637415690036\n",
      "0.8462891885916427\n",
      "0.10378923913179929\n",
      "nan\n",
      "0.8475677647579041\n",
      "haha\n",
      "0.1551745565472828\n",
      "0.07972731268078172\n",
      "0.8462787972584568\n",
      "0.10378923913179929\n",
      "nan\n",
      "0.8475677647579041\n",
      "haha\n"
     ]
    }
   ],
   "source": [
    "aa = np.load(\"DEOO_eq_ours_111.npy\")\n",
    "bb = np.load(\"DPE_eq_ours_111.npy\")\n",
    "cc = np.load(\"mis_eq_ours_111.npy\")\n",
    "dd = np.load(\"DEOO_odds_zeng_111.npy\")\n",
    "ee = np.load(\"DPE_odds_zeng_111.npy\")\n",
    "ff = np.load(\"mis_odds_zeng_111.npy\")\n",
    "for i in range(6):\n",
    "    print(np.percentile(abs(aa[i]),90))\n",
    "    print(np.mean(abs(bb[i])))\n",
    "    print(1-np.mean(cc[i]))\n",
    "    print(np.mean(dd[i]))\n",
    "    print(np.mean(ee[i]))\n",
    "    print(1-np.mean(ff[i]))\n",
    "    print(\"haha\")"
   ]
  },
  {
   "cell_type": "code",
   "execution_count": 4,
   "metadata": {},
   "outputs": [
    {
     "name": "stdout",
     "output_type": "stream",
     "text": [
      "0.07676816178962835\n",
      "0.07401110494819556\n",
      "0.8457552509396418\n",
      "0.10741473028785195\n",
      "nan\n",
      "0.8474757904045987\n",
      "haha\n",
      "0.09502786879072048\n",
      "0.07790269971045673\n",
      "0.846024320141499\n",
      "0.1278198320340451\n",
      "nan\n",
      "0.8475467609993368\n",
      "haha\n",
      "0.11212449315206068\n",
      "0.08167465997220472\n",
      "0.8461908025646695\n",
      "0.1399609585859727\n",
      "nan\n",
      "0.8475666592969269\n",
      "haha\n",
      "0.12546385216987413\n",
      "0.08498799084605943\n",
      "0.8462657528189255\n",
      "0.1399609585859727\n",
      "nan\n",
      "0.8475677647579041\n",
      "haha\n",
      "0.14211953451587397\n",
      "0.08867049945575808\n",
      "0.8462891885916427\n",
      "0.1399609585859727\n",
      "nan\n",
      "0.8475677647579041\n",
      "haha\n",
      "0.1551745565472828\n",
      "0.09050395667710057\n",
      "0.8462787972584568\n",
      "0.1399609585859727\n",
      "nan\n",
      "0.8475677647579041\n",
      "haha\n"
     ]
    },
    {
     "name": "stderr",
     "output_type": "stream",
     "text": [
      "c:\\Users\\lphLe\\anaconda3\\envs\\aif360\\lib\\site-packages\\numpy\\core\\fromnumeric.py:3441: RuntimeWarning: Mean of empty slice.\n",
      "  out=out, **kwargs)\n",
      "c:\\Users\\lphLe\\anaconda3\\envs\\aif360\\lib\\site-packages\\numpy\\core\\_methods.py:189: RuntimeWarning: invalid value encountered in double_scalars\n",
      "  ret = ret.dtype.type(ret / rcount)\n"
     ]
    }
   ],
   "source": [
    "for i in range(6):\n",
    "    print(np.percentile(abs(aa[i]), 90))\n",
    "    print(np.percentile(abs(bb[i]), 90))\n",
    "    print(1-np.mean(cc[i]))\n",
    "    print(np.percentile(dd[i], 90))\n",
    "    print(np.mean(ee[i]))\n",
    "    print(1-np.mean(ff[i]))\n",
    "    print(\"haha\")"
   ]
  },
  {
   "cell_type": "code",
   "execution_count": 65,
   "metadata": {},
   "outputs": [],
   "source": [
    "DEOO_fin_ = []\n",
    "DPE_fin_ = []\n",
    "mis_fin_ = []\n",
    "for i in range(6):\n",
    "    DEOO_fin_.append(DEOO_fin[i][:495])\n",
    "    DPE_fin_.append(DPE_fin[i][:495])\n",
    "    mis_fin_.append(mis_fin[i][:495])"
   ]
  },
  {
   "cell_type": "code",
   "execution_count": 66,
   "metadata": {},
   "outputs": [],
   "source": [
    "DEOO_fin_ = np.array(DEOO_fin_)\n",
    "DPE_fin_ = np.array(DPE_fin_)\n",
    "mis_fin_ = np.array(mis_fin_)"
   ]
  },
  {
   "cell_type": "code",
   "execution_count": 67,
   "metadata": {},
   "outputs": [],
   "source": [
    "np.save(\"DEOO_odds_ours_11.npy\", DEOO_fin_)\n",
    "np.save(\"DPE_odds_ours_11.npy\", DPE_fin_)\n",
    "np.save(\"mis_odds_ours_11.npy\", mis_fin_)"
   ]
  },
  {
   "cell_type": "code",
   "execution_count": 72,
   "metadata": {},
   "outputs": [
    {
     "name": "stdout",
     "output_type": "stream",
     "text": [
      "0.038791448549442005\n",
      "0.06547197857986684\n",
      "0.15424474906035818\n",
      "0.06599246161764522\n",
      "nan\n",
      "0.15252420959540128\n",
      "haha\n",
      "0.05239253568335029\n",
      "0.06984632304898324\n",
      "0.153975679858501\n",
      "0.08512463124066334\n",
      "nan\n",
      "0.15245323900066327\n",
      "haha\n",
      "0.06648873950212783\n",
      "0.0731404670644977\n",
      "0.15380919743533053\n",
      "0.10129509534390338\n",
      "nan\n",
      "0.15243334070307316\n",
      "haha\n",
      "0.07873183193361705\n",
      "0.0757734783621335\n",
      "0.15373424718107453\n",
      "0.10378923913179929\n",
      "nan\n",
      "0.15243223524209595\n",
      "haha\n",
      "0.09035590454311503\n",
      "0.07810637415690036\n",
      "0.1537108114083573\n",
      "0.10378923913179929\n",
      "nan\n",
      "0.15243223524209595\n",
      "haha\n",
      "0.0998678115467179\n",
      "0.07972731268078172\n",
      "0.15372120274154324\n",
      "0.10378923913179929\n",
      "nan\n",
      "0.15243223524209595\n",
      "haha\n"
     ]
    },
    {
     "name": "stderr",
     "output_type": "stream",
     "text": [
      "c:\\Users\\lphLe\\anaconda3\\envs\\aif360\\lib\\site-packages\\numpy\\core\\fromnumeric.py:3441: RuntimeWarning: Mean of empty slice.\n",
      "  out=out, **kwargs)\n",
      "c:\\Users\\lphLe\\anaconda3\\envs\\aif360\\lib\\site-packages\\numpy\\core\\_methods.py:189: RuntimeWarning: invalid value encountered in double_scalars\n",
      "  ret = ret.dtype.type(ret / rcount)\n"
     ]
    }
   ],
   "source": [
    "for i in range(6):\n",
    "    print(np.mean(abs(DEOO_fin[i])))\n",
    "    print(np.mean(abs(DPE_fin[i])))\n",
    "    print(np.mean(abs(mis_fin[i])))\n",
    "    print(np.mean(abs(DEOO_fin_zeng[i])))\n",
    "    print(np.mean(abs(DPE_fin_zeng[i])))\n",
    "    print(np.mean(abs(mis_fin_zeng[i])))\n",
    "    print(\"haha\")"
   ]
  },
  {
   "cell_type": "markdown",
   "metadata": {},
   "source": [
    "#### Divide dataset into train, validation, and test partitions (70-30)"
   ]
  },
  {
   "cell_type": "code",
   "execution_count": 5,
   "metadata": {},
   "outputs": [],
   "source": [
    "from sklearn.linear_model import LogisticRegression\n",
    "from sklearn.preprocessing import StandardScaler\n",
    "from sklearn.metrics import roc_curve\n",
    "\n",
    "# Odds equalizing post-processing algorithm\n",
    "from aif360.algorithms.postprocessing.calibrated_eq_odds_postprocessing import CalibratedEqOddsPostprocessing\n",
    "from aif360.algorithms.postprocessing.eq_odds_postprocessing import EqOddsPostprocessing\n",
    "from tqdm import tqdm\n",
    "import gc"
   ]
  },
  {
   "cell_type": "markdown",
   "metadata": {},
   "source": [
    "### Train classifier (logistic regression on original training data)"
   ]
  },
  {
   "cell_type": "code",
   "execution_count": 4,
   "metadata": {},
   "outputs": [
    {
     "name": "stderr",
     "output_type": "stream",
     "text": [
      "  0%|          | 1/300 [00:00<03:05,  1.61it/s]"
     ]
    },
    {
     "name": "stdout",
     "output_type": "stream",
     "text": [
      "0.8247650635710337\n",
      "0.09834368530020704\n",
      "0.038905104928188244\n"
     ]
    },
    {
     "name": "stderr",
     "output_type": "stream",
     "text": [
      "  1%|          | 2/300 [00:01<03:02,  1.63it/s]"
     ]
    },
    {
     "name": "stdout",
     "output_type": "stream",
     "text": [
      "1.6501934770591489\n",
      "0.13573945721968822\n",
      "0.08626603906158954\n"
     ]
    },
    {
     "name": "stderr",
     "output_type": "stream",
     "text": [
      "  1%|          | 3/300 [00:01<03:05,  1.60it/s]"
     ]
    },
    {
     "name": "stdout",
     "output_type": "stream",
     "text": [
      "2.4683250414593703\n",
      "0.23542729742451457\n",
      "0.14066213905499417\n"
     ]
    },
    {
     "name": "stderr",
     "output_type": "stream",
     "text": [
      "  1%|▏         | 4/300 [00:02<03:02,  1.62it/s]"
     ]
    },
    {
     "name": "stdout",
     "output_type": "stream",
     "text": [
      "3.293753454947485\n",
      "0.257504057873368\n",
      "0.20807952528351792\n"
     ]
    },
    {
     "name": "stderr",
     "output_type": "stream",
     "text": [
      "  2%|▏         | 5/300 [00:03<03:00,  1.63it/s]"
     ]
    },
    {
     "name": "stdout",
     "output_type": "stream",
     "text": [
      "4.112990602542842\n",
      "0.39027790853560923\n",
      "0.24534133365458832\n"
     ]
    },
    {
     "name": "stderr",
     "output_type": "stream",
     "text": [
      "  2%|▏         | 6/300 [00:03<03:03,  1.60it/s]"
     ]
    },
    {
     "name": "stdout",
     "output_type": "stream",
     "text": [
      "4.931453841901604\n",
      "0.540982807885175\n",
      "0.28486369492224245\n"
     ]
    },
    {
     "name": "stderr",
     "output_type": "stream",
     "text": [
      "  2%|▏         | 7/300 [00:04<02:59,  1.63it/s]"
     ]
    },
    {
     "name": "stdout",
     "output_type": "stream",
     "text": [
      "5.752349364289664\n",
      "0.6136173544340047\n",
      "0.32725149879265203\n"
     ]
    },
    {
     "name": "stderr",
     "output_type": "stream",
     "text": [
      "  3%|▎         | 8/300 [00:04<02:57,  1.65it/s]"
     ]
    },
    {
     "name": "stdout",
     "output_type": "stream",
     "text": [
      "6.566058595909343\n",
      "0.6971726441928914\n",
      "0.3781908196430875\n"
     ]
    },
    {
     "name": "stderr",
     "output_type": "stream",
     "text": [
      "  3%|▎         | 9/300 [00:05<02:56,  1.64it/s]"
     ]
    },
    {
     "name": "stdout",
     "output_type": "stream",
     "text": [
      "7.391708126036486\n",
      "0.7614376115042638\n",
      "0.44152929030855953\n"
     ]
    },
    {
     "name": "stderr",
     "output_type": "stream",
     "text": [
      "  3%|▎         | 10/300 [00:06<02:56,  1.64it/s]"
     ]
    },
    {
     "name": "stdout",
     "output_type": "stream",
     "text": [
      "8.210945273631843\n",
      "0.8309053950362036\n",
      "0.4910334952989448\n"
     ]
    },
    {
     "name": "stderr",
     "output_type": "stream",
     "text": [
      "  4%|▎         | 11/300 [00:06<02:58,  1.62it/s]"
     ]
    },
    {
     "name": "stdout",
     "output_type": "stream",
     "text": [
      "9.033388612493093\n",
      "0.9480992209471348\n",
      "0.5205954200727455\n"
     ]
    },
    {
     "name": "stderr",
     "output_type": "stream",
     "text": [
      "  4%|▍         | 12/300 [00:07<02:53,  1.66it/s]"
     ]
    },
    {
     "name": "stdout",
     "output_type": "stream",
     "text": [
      "9.846655610834718\n",
      "1.0589867949116318\n",
      "0.5579820270685426\n"
     ]
    },
    {
     "name": "stderr",
     "output_type": "stream",
     "text": [
      "  4%|▍         | 13/300 [00:07<02:53,  1.65it/s]"
     ]
    },
    {
     "name": "stdout",
     "output_type": "stream",
     "text": [
      "10.684687672747376\n",
      "1.079931631903749\n",
      "0.624971617602997\n"
     ]
    },
    {
     "name": "stderr",
     "output_type": "stream",
     "text": [
      "  5%|▍         | 14/300 [00:08<02:53,  1.65it/s]"
     ]
    },
    {
     "name": "stdout",
     "output_type": "stream",
     "text": [
      "11.501050304035381\n",
      "1.2227017605229342\n",
      "0.6567020348692052\n"
     ]
    },
    {
     "name": "stderr",
     "output_type": "stream",
     "text": [
      "  5%|▌         | 15/300 [00:09<02:50,  1.67it/s]"
     ]
    },
    {
     "name": "stdout",
     "output_type": "stream",
     "text": [
      "12.312437810945276\n",
      "1.4350508149772518\n",
      "0.6847855649514327\n"
     ]
    },
    {
     "name": "stderr",
     "output_type": "stream",
     "text": [
      "  5%|▌         | 16/300 [00:09<02:53,  1.64it/s]"
     ]
    },
    {
     "name": "stdout",
     "output_type": "stream",
     "text": [
      "13.137423991155337\n",
      "1.5369563710859844\n",
      "0.74455539929616\n"
     ]
    },
    {
     "name": "stderr",
     "output_type": "stream",
     "text": [
      "  6%|▌         | 17/300 [00:10<02:53,  1.63it/s]"
     ]
    },
    {
     "name": "stdout",
     "output_type": "stream",
     "text": [
      "13.962299613045884\n",
      "1.66874131221276\n",
      "0.7926826648480777\n"
     ]
    },
    {
     "name": "stderr",
     "output_type": "stream",
     "text": [
      "  6%|▌         | 18/300 [00:11<02:52,  1.63it/s]"
     ]
    },
    {
     "name": "stdout",
     "output_type": "stream",
     "text": [
      "14.781426202321727\n",
      "1.7345900539639807\n",
      "0.8384010049430438\n"
     ]
    },
    {
     "name": "stderr",
     "output_type": "stream",
     "text": [
      "  6%|▋         | 19/300 [00:11<02:52,  1.63it/s]"
     ]
    },
    {
     "name": "stdout",
     "output_type": "stream",
     "text": [
      "15.604975124378111\n",
      "1.8142308148265656\n",
      "0.8915763168303495\n"
     ]
    },
    {
     "name": "stderr",
     "output_type": "stream",
     "text": [
      "  7%|▋         | 20/300 [00:12<02:48,  1.66it/s]"
     ]
    },
    {
     "name": "stdout",
     "output_type": "stream",
     "text": [
      "16.423217247097845\n",
      "1.9086262481426008\n",
      "0.94812274930144\n"
     ]
    },
    {
     "name": "stderr",
     "output_type": "stream",
     "text": [
      "  7%|▋         | 21/300 [00:12<02:47,  1.66it/s]"
     ]
    },
    {
     "name": "stdout",
     "output_type": "stream",
     "text": [
      "17.252183526810395\n",
      "1.9178620770119261\n",
      "1.0121087509962552\n"
     ]
    },
    {
     "name": "stderr",
     "output_type": "stream",
     "text": [
      "  7%|▋         | 22/300 [00:13<02:47,  1.66it/s]"
     ]
    },
    {
     "name": "stdout",
     "output_type": "stream",
     "text": [
      "18.08037589828635\n",
      "1.9339888621042285\n",
      "1.0716856729144186\n"
     ]
    },
    {
     "name": "stderr",
     "output_type": "stream",
     "text": [
      "  8%|▊         | 23/300 [00:14<02:47,  1.65it/s]"
     ]
    },
    {
     "name": "stdout",
     "output_type": "stream",
     "text": [
      "18.896517412935324\n",
      "1.9985711143097293\n",
      "1.1234151374672803\n"
     ]
    },
    {
     "name": "stderr",
     "output_type": "stream",
     "text": [
      "  8%|▊         | 24/300 [00:14<02:50,  1.62it/s]"
     ]
    },
    {
     "name": "stdout",
     "output_type": "stream",
     "text": [
      "19.732448866777226\n",
      "1.998679754391529\n",
      "1.1872491107014207\n"
     ]
    },
    {
     "name": "stderr",
     "output_type": "stream",
     "text": [
      "  8%|▊         | 25/300 [00:15<02:50,  1.61it/s]"
     ]
    },
    {
     "name": "stdout",
     "output_type": "stream",
     "text": [
      "20.557213930348258\n",
      "2.0989591420476743\n",
      "1.2383807636384343\n"
     ]
    },
    {
     "name": "stderr",
     "output_type": "stream",
     "text": [
      "  9%|▊         | 26/300 [00:15<02:51,  1.60it/s]"
     ]
    },
    {
     "name": "stdout",
     "output_type": "stream",
     "text": [
      "21.37844112769486\n",
      "2.20749027379862\n",
      "1.2895219397041715\n"
     ]
    },
    {
     "name": "stderr",
     "output_type": "stream",
     "text": [
      "  9%|▉         | 27/300 [00:16<02:50,  1.60it/s]"
     ]
    },
    {
     "name": "stdout",
     "output_type": "stream",
     "text": [
      "22.202321724709783\n",
      "2.3066909782624827\n",
      "1.3474729235499041\n"
     ]
    },
    {
     "name": "stderr",
     "output_type": "stream",
     "text": [
      "  9%|▉         | 28/300 [00:17<02:47,  1.63it/s]"
     ]
    },
    {
     "name": "stdout",
     "output_type": "stream",
     "text": [
      "23.021116639027085\n",
      "2.3638516045354745\n",
      "1.4001713189356608\n"
     ]
    },
    {
     "name": "stderr",
     "output_type": "stream",
     "text": [
      " 10%|▉         | 29/300 [00:17<02:48,  1.61it/s]"
     ]
    },
    {
     "name": "stdout",
     "output_type": "stream",
     "text": [
      "23.83537866224433\n",
      "2.496563128700227\n",
      "1.4358718347620654\n"
     ]
    },
    {
     "name": "stderr",
     "output_type": "stream",
     "text": [
      " 10%|█         | 30/300 [00:18<02:47,  1.61it/s]"
     ]
    },
    {
     "name": "stdout",
     "output_type": "stream",
     "text": [
      "24.658485351022662\n",
      "2.574257581903653\n",
      "1.4866422558771784\n"
     ]
    },
    {
     "name": "stderr",
     "output_type": "stream",
     "text": [
      " 10%|█         | 31/300 [00:19<02:46,  1.62it/s]"
     ]
    },
    {
     "name": "stdout",
     "output_type": "stream",
     "text": [
      "25.480486456605856\n",
      "2.7115654780350784\n",
      "1.5286903906806744\n"
     ]
    },
    {
     "name": "stderr",
     "output_type": "stream",
     "text": [
      " 11%|█         | 32/300 [00:19<02:44,  1.63it/s]"
     ]
    },
    {
     "name": "stdout",
     "output_type": "stream",
     "text": [
      "26.30867882808181\n",
      "2.7709304735379687\n",
      "1.5780186558453884\n"
     ]
    },
    {
     "name": "stderr",
     "output_type": "stream",
     "text": [
      " 11%|█         | 33/300 [00:20<02:44,  1.63it/s]"
     ]
    },
    {
     "name": "stdout",
     "output_type": "stream",
     "text": [
      "27.136318407960196\n",
      "2.809490613412225\n",
      "1.6361785185679067\n"
     ]
    },
    {
     "name": "stderr",
     "output_type": "stream",
     "text": [
      " 11%|█▏        | 34/300 [00:20<02:42,  1.64it/s]"
     ]
    },
    {
     "name": "stdout",
     "output_type": "stream",
     "text": [
      "27.960862354892203\n",
      "2.8842365096126055\n",
      "1.6810301041589444\n"
     ]
    },
    {
     "name": "stderr",
     "output_type": "stream",
     "text": [
      " 12%|█▏        | 35/300 [00:21<02:40,  1.65it/s]"
     ]
    },
    {
     "name": "stdout",
     "output_type": "stream",
     "text": [
      "28.77103372028745\n",
      "3.0809690300632924\n",
      "1.7238397574439925\n"
     ]
    },
    {
     "name": "stderr",
     "output_type": "stream",
     "text": [
      " 12%|█▏        | 36/300 [00:22<02:40,  1.65it/s]"
     ]
    },
    {
     "name": "stdout",
     "output_type": "stream",
     "text": [
      "29.594914317302372\n",
      "3.1302472810974695\n",
      "1.765721732404723\n"
     ]
    },
    {
     "name": "stderr",
     "output_type": "stream",
     "text": [
      " 12%|█▏        | 37/300 [00:22<02:41,  1.63it/s]"
     ]
    },
    {
     "name": "stdout",
     "output_type": "stream",
     "text": [
      "30.41735765616362\n",
      "3.200110595756227\n",
      "1.817292240844746\n"
     ]
    },
    {
     "name": "stderr",
     "output_type": "stream",
     "text": [
      " 13%|█▎        | 38/300 [00:23<02:41,  1.63it/s]"
     ]
    },
    {
     "name": "stdout",
     "output_type": "stream",
     "text": [
      "31.235268103924813\n",
      "3.277241604817815\n",
      "1.8691500799766458\n"
     ]
    },
    {
     "name": "stderr",
     "output_type": "stream",
     "text": [
      " 13%|█▎        | 39/300 [00:23<02:40,  1.63it/s]"
     ]
    },
    {
     "name": "stdout",
     "output_type": "stream",
     "text": [
      "32.05030403537865\n",
      "3.3762350761072852\n",
      "1.91823177428393\n"
     ]
    },
    {
     "name": "stderr",
     "output_type": "stream",
     "text": [
      " 13%|█▎        | 40/300 [00:24<02:35,  1.67it/s]"
     ]
    },
    {
     "name": "stdout",
     "output_type": "stream",
     "text": [
      "32.89143173023769\n",
      "3.396572764749724\n",
      "1.9744170853688334\n"
     ]
    },
    {
     "name": "stderr",
     "output_type": "stream",
     "text": [
      " 14%|█▎        | 41/300 [00:25<02:35,  1.67it/s]"
     ]
    },
    {
     "name": "stdout",
     "output_type": "stream",
     "text": [
      "33.70204532891099\n",
      "3.5240879848700337\n",
      "2.022651756512976\n"
     ]
    },
    {
     "name": "stderr",
     "output_type": "stream",
     "text": [
      " 14%|█▍        | 42/300 [00:25<02:36,  1.65it/s]"
     ]
    },
    {
     "name": "stdout",
     "output_type": "stream",
     "text": [
      "34.520508568269754\n",
      "3.64031433706605\n",
      "2.0752402619598835\n"
     ]
    },
    {
     "name": "stderr",
     "output_type": "stream",
     "text": [
      " 14%|█▍        | 43/300 [00:26<02:36,  1.65it/s]"
     ]
    },
    {
     "name": "stdout",
     "output_type": "stream",
     "text": [
      "35.34814814814814\n",
      "3.7278632634737403\n",
      "2.1212411373284574\n"
     ]
    },
    {
     "name": "stderr",
     "output_type": "stream",
     "text": [
      " 15%|█▍        | 44/300 [00:26<02:37,  1.62it/s]"
     ]
    },
    {
     "name": "stdout",
     "output_type": "stream",
     "text": [
      "36.16815920398009\n",
      "3.8647909096694417\n",
      "2.161344467255942\n"
     ]
    },
    {
     "name": "stderr",
     "output_type": "stream",
     "text": [
      " 15%|█▌        | 45/300 [00:27<02:38,  1.61it/s]"
     ]
    },
    {
     "name": "stdout",
     "output_type": "stream",
     "text": [
      "36.98894416804863\n",
      "4.026959296388727\n",
      "2.2051757137255943\n"
     ]
    },
    {
     "name": "stderr",
     "output_type": "stream",
     "text": [
      " 15%|█▌        | 46/300 [00:28<02:37,  1.61it/s]"
     ]
    },
    {
     "name": "stdout",
     "output_type": "stream",
     "text": [
      "37.806412382531775\n",
      "4.177614920957395\n",
      "2.255272293150687\n"
     ]
    },
    {
     "name": "stderr",
     "output_type": "stream",
     "text": [
      " 16%|█▌        | 47/300 [00:28<02:34,  1.64it/s]"
     ]
    },
    {
     "name": "stdout",
     "output_type": "stream",
     "text": [
      "38.61503593145383\n",
      "4.356805735695735\n",
      "2.290763754948778\n"
     ]
    },
    {
     "name": "stderr",
     "output_type": "stream",
     "text": [
      " 16%|█▌        | 48/300 [00:29<02:34,  1.63it/s]"
     ]
    },
    {
     "name": "stdout",
     "output_type": "stream",
     "text": [
      "39.436705362078484\n",
      "4.499498537393396\n",
      "2.341328024751126\n"
     ]
    },
    {
     "name": "stderr",
     "output_type": "stream",
     "text": [
      " 16%|█▋        | 49/300 [00:30<02:34,  1.63it/s]"
     ]
    },
    {
     "name": "stdout",
     "output_type": "stream",
     "text": [
      "40.25063571033719\n",
      "4.584309610498161\n",
      "2.398006788038782\n"
     ]
    },
    {
     "name": "stderr",
     "output_type": "stream",
     "text": [
      " 17%|█▋        | 50/300 [00:30<02:34,  1.62it/s]"
     ]
    },
    {
     "name": "stdout",
     "output_type": "stream",
     "text": [
      "41.0710889994472\n",
      "4.697892272481151\n",
      "2.4406554175732125\n"
     ]
    },
    {
     "name": "stderr",
     "output_type": "stream",
     "text": [
      " 17%|█▋        | 51/300 [00:31<02:32,  1.63it/s]"
     ]
    },
    {
     "name": "stdout",
     "output_type": "stream",
     "text": [
      "41.89375345494747\n",
      "4.738256132159448\n",
      "2.497484608007766\n"
     ]
    },
    {
     "name": "stderr",
     "output_type": "stream",
     "text": [
      " 17%|█▋        | 52/300 [00:31<02:33,  1.61it/s]"
     ]
    },
    {
     "name": "stdout",
     "output_type": "stream",
     "text": [
      "42.71487009397456\n",
      "4.802771471585035\n",
      "2.5437813569153986\n"
     ]
    },
    {
     "name": "stderr",
     "output_type": "stream",
     "text": [
      " 18%|█▊        | 53/300 [00:32<02:31,  1.63it/s]"
     ]
    },
    {
     "name": "stdout",
     "output_type": "stream",
     "text": [
      "43.53388612493089\n",
      "4.928901188972318\n",
      "2.580359354066973\n"
     ]
    },
    {
     "name": "stderr",
     "output_type": "stream",
     "text": [
      " 18%|█▊        | 54/300 [00:33<02:29,  1.64it/s]"
     ]
    },
    {
     "name": "stdout",
     "output_type": "stream",
     "text": [
      "44.36838032061911\n",
      "4.964293369078649\n",
      "2.6310955438799417\n"
     ]
    },
    {
     "name": "stderr",
     "output_type": "stream",
     "text": [
      " 18%|█▊        | 55/300 [00:33<02:27,  1.66it/s]"
     ]
    },
    {
     "name": "stdout",
     "output_type": "stream",
     "text": [
      "45.19745715865117\n",
      "5.044339414424572\n",
      "2.6719518052952873\n"
     ]
    },
    {
     "name": "stderr",
     "output_type": "stream",
     "text": [
      " 19%|█▊        | 56/300 [00:34<02:27,  1.65it/s]"
     ]
    },
    {
     "name": "stdout",
     "output_type": "stream",
     "text": [
      "46.01636263128798\n",
      "5.132169424416052\n",
      "2.7156498524460506\n"
     ]
    },
    {
     "name": "stderr",
     "output_type": "stream",
     "text": [
      " 19%|█▉        | 57/300 [00:34<02:28,  1.63it/s]"
     ]
    },
    {
     "name": "stdout",
     "output_type": "stream",
     "text": [
      "46.84577114427859\n",
      "5.194187478171469\n",
      "2.76273165591712\n"
     ]
    },
    {
     "name": "stderr",
     "output_type": "stream",
     "text": [
      " 19%|█▉        | 58/300 [00:35<02:26,  1.65it/s]"
     ]
    },
    {
     "name": "stdout",
     "output_type": "stream",
     "text": [
      "47.668214483139835\n",
      "5.298455075777625\n",
      "2.8083591417972613\n"
     ]
    },
    {
     "name": "stderr",
     "output_type": "stream",
     "text": [
      " 20%|█▉        | 59/300 [00:36<02:27,  1.64it/s]"
     ]
    },
    {
     "name": "stdout",
     "output_type": "stream",
     "text": [
      "48.49729132117189\n",
      "5.3542011737992965\n",
      "2.851337507369853\n"
     ]
    },
    {
     "name": "stderr",
     "output_type": "stream",
     "text": [
      " 20%|██        | 60/300 [00:36<02:25,  1.65it/s]"
     ]
    },
    {
     "name": "stdout",
     "output_type": "stream",
     "text": [
      "49.31254836926476\n",
      "5.471880846574446\n",
      "2.898699494302697\n"
     ]
    },
    {
     "name": "stderr",
     "output_type": "stream",
     "text": [
      " 20%|██        | 61/300 [00:37<02:25,  1.64it/s]"
     ]
    },
    {
     "name": "stdout",
     "output_type": "stream",
     "text": [
      "50.135212824765034\n",
      "5.512244706252742\n",
      "2.9555286847372506\n"
     ]
    },
    {
     "name": "stderr",
     "output_type": "stream",
     "text": [
      " 21%|██        | 62/300 [00:37<02:25,  1.64it/s]"
     ]
    },
    {
     "name": "stdout",
     "output_type": "stream",
     "text": [
      "50.95632946379212\n",
      "5.57676004567833\n",
      "3.0018254336448833\n"
     ]
    },
    {
     "name": "stderr",
     "output_type": "stream",
     "text": [
      " 21%|██        | 63/300 [00:38<02:25,  1.63it/s]"
     ]
    },
    {
     "name": "stdout",
     "output_type": "stream",
     "text": [
      "51.77534549474845\n",
      "5.702889763065613\n",
      "3.038403430796458\n"
     ]
    },
    {
     "name": "stderr",
     "output_type": "stream",
     "text": [
      " 21%|██▏       | 64/300 [00:39<02:23,  1.64it/s]"
     ]
    },
    {
     "name": "stdout",
     "output_type": "stream",
     "text": [
      "52.60983969043667\n",
      "5.738281943171944\n",
      "3.0891396206094264\n"
     ]
    },
    {
     "name": "stderr",
     "output_type": "stream",
     "text": [
      " 22%|██▏       | 65/300 [00:39<02:22,  1.65it/s]"
     ]
    },
    {
     "name": "stdout",
     "output_type": "stream",
     "text": [
      "53.43891652846873\n",
      "5.818327988517867\n",
      "3.129995882024772\n"
     ]
    },
    {
     "name": "stderr",
     "output_type": "stream",
     "text": [
      " 22%|██▏       | 66/300 [00:40<02:22,  1.64it/s]"
     ]
    },
    {
     "name": "stdout",
     "output_type": "stream",
     "text": [
      "54.257822001105545\n",
      "5.906157998509347\n",
      "3.1736939291755353\n"
     ]
    },
    {
     "name": "stderr",
     "output_type": "stream",
     "text": [
      " 22%|██▏       | 67/300 [00:41<02:25,  1.60it/s]"
     ]
    },
    {
     "name": "stdout",
     "output_type": "stream",
     "text": [
      "55.08723051409615\n",
      "5.968176052264764\n",
      "3.220775732646605\n"
     ]
    },
    {
     "name": "stderr",
     "output_type": "stream",
     "text": [
      " 23%|██▎       | 68/300 [00:41<02:23,  1.61it/s]"
     ]
    },
    {
     "name": "stdout",
     "output_type": "stream",
     "text": [
      "55.9096738529574\n",
      "6.07244364987092\n",
      "3.266403218526746\n"
     ]
    },
    {
     "name": "stderr",
     "output_type": "stream",
     "text": [
      " 23%|██▎       | 69/300 [00:42<02:21,  1.63it/s]"
     ]
    },
    {
     "name": "stdout",
     "output_type": "stream",
     "text": [
      "56.738750690989455\n",
      "6.128189747892591\n",
      "3.3093815840993375\n"
     ]
    },
    {
     "name": "stderr",
     "output_type": "stream",
     "text": [
      " 23%|██▎       | 70/300 [00:42<02:21,  1.63it/s]"
     ]
    },
    {
     "name": "stdout",
     "output_type": "stream",
     "text": [
      "57.55400773908232\n",
      "6.2458694206677405\n",
      "3.356743571032182\n"
     ]
    },
    {
     "name": "stderr",
     "output_type": "stream",
     "text": [
      " 24%|██▎       | 71/300 [00:43<02:20,  1.63it/s]"
     ]
    },
    {
     "name": "stdout",
     "output_type": "stream",
     "text": [
      "58.376672194582596\n",
      "6.286233280346037\n",
      "3.4135727614667353\n"
     ]
    },
    {
     "name": "stderr",
     "output_type": "stream",
     "text": [
      " 24%|██▍       | 72/300 [00:44<02:21,  1.61it/s]"
     ]
    },
    {
     "name": "stdout",
     "output_type": "stream",
     "text": [
      "59.197788833609685\n",
      "6.3507486197716245\n",
      "3.459869510374368\n"
     ]
    },
    {
     "name": "stderr",
     "output_type": "stream",
     "text": [
      " 24%|██▍       | 73/300 [00:44<02:19,  1.62it/s]"
     ]
    },
    {
     "name": "stdout",
     "output_type": "stream",
     "text": [
      "60.01680486456601\n",
      "6.476878337158908\n",
      "3.4964475075259425\n"
     ]
    },
    {
     "name": "stderr",
     "output_type": "stream",
     "text": [
      " 25%|██▍       | 74/300 [00:45<02:18,  1.63it/s]"
     ]
    },
    {
     "name": "stdout",
     "output_type": "stream",
     "text": [
      "60.851299060254235\n",
      "6.512270517265239\n",
      "3.547183697338911\n"
     ]
    },
    {
     "name": "stderr",
     "output_type": "stream",
     "text": [
      " 25%|██▌       | 75/300 [00:45<02:17,  1.64it/s]"
     ]
    },
    {
     "name": "stdout",
     "output_type": "stream",
     "text": [
      "61.68037589828629\n",
      "6.5923165626111615\n",
      "3.5880399587542566\n"
     ]
    },
    {
     "name": "stderr",
     "output_type": "stream",
     "text": [
      " 25%|██▌       | 76/300 [00:46<02:18,  1.61it/s]"
     ]
    },
    {
     "name": "stdout",
     "output_type": "stream",
     "text": [
      "62.49928137092311\n",
      "6.680146572602641\n",
      "3.63173800590502\n"
     ]
    },
    {
     "name": "stderr",
     "output_type": "stream",
     "text": [
      " 26%|██▌       | 77/300 [00:47<02:17,  1.62it/s]"
     ]
    },
    {
     "name": "stdout",
     "output_type": "stream",
     "text": [
      "63.32868988391371\n",
      "6.742164626358059\n",
      "3.6788198093760895\n"
     ]
    },
    {
     "name": "stderr",
     "output_type": "stream",
     "text": [
      " 26%|██▌       | 78/300 [00:47<02:16,  1.63it/s]"
     ]
    },
    {
     "name": "stdout",
     "output_type": "stream",
     "text": [
      "64.15113322277496\n",
      "6.846432223964214\n",
      "3.7244472952562306\n"
     ]
    },
    {
     "name": "stderr",
     "output_type": "stream",
     "text": [
      " 26%|██▋       | 79/300 [00:48<02:15,  1.64it/s]"
     ]
    },
    {
     "name": "stdout",
     "output_type": "stream",
     "text": [
      "64.98021006080702\n",
      "6.902178321985886\n",
      "3.767425660828822\n"
     ]
    },
    {
     "name": "stderr",
     "output_type": "stream",
     "text": [
      " 27%|██▋       | 80/300 [00:48<02:14,  1.64it/s]"
     ]
    },
    {
     "name": "stdout",
     "output_type": "stream",
     "text": [
      "65.7954671088999\n",
      "7.019857994761035\n",
      "3.8147876477616665\n"
     ]
    },
    {
     "name": "stderr",
     "output_type": "stream",
     "text": [
      " 27%|██▋       | 81/300 [00:49<02:15,  1.62it/s]"
     ]
    },
    {
     "name": "stdout",
     "output_type": "stream",
     "text": [
      "66.61813156440017\n",
      "7.060221854439332\n",
      "3.87161683819622\n"
     ]
    },
    {
     "name": "stderr",
     "output_type": "stream",
     "text": [
      " 27%|██▋       | 82/300 [00:50<02:14,  1.62it/s]"
     ]
    },
    {
     "name": "stdout",
     "output_type": "stream",
     "text": [
      "67.43924820342725\n",
      "7.124737193864919\n",
      "3.9179135871038526\n"
     ]
    },
    {
     "name": "stderr",
     "output_type": "stream",
     "text": [
      " 28%|██▊       | 83/300 [00:50<02:15,  1.60it/s]"
     ]
    },
    {
     "name": "stdout",
     "output_type": "stream",
     "text": [
      "68.25826423438359\n",
      "7.250866911252203\n",
      "3.954491584255427\n"
     ]
    },
    {
     "name": "stderr",
     "output_type": "stream",
     "text": [
      " 28%|██▊       | 84/300 [00:51<02:13,  1.62it/s]"
     ]
    },
    {
     "name": "stdout",
     "output_type": "stream",
     "text": [
      "69.09275843007181\n",
      "7.2862590913585334\n",
      "4.005227774068396\n"
     ]
    },
    {
     "name": "stderr",
     "output_type": "stream",
     "text": [
      " 28%|██▊       | 85/300 [00:52<02:10,  1.65it/s]"
     ]
    },
    {
     "name": "stdout",
     "output_type": "stream",
     "text": [
      "69.92183526810388\n",
      "7.366305136704456\n",
      "4.046084035483741\n"
     ]
    },
    {
     "name": "stderr",
     "output_type": "stream",
     "text": [
      " 29%|██▊       | 86/300 [00:52<02:13,  1.61it/s]"
     ]
    },
    {
     "name": "stdout",
     "output_type": "stream",
     "text": [
      "70.74074074074069\n",
      "7.454135146695936\n",
      "4.089782082634504\n"
     ]
    },
    {
     "name": "stderr",
     "output_type": "stream",
     "text": [
      " 29%|██▉       | 87/300 [00:53<02:13,  1.60it/s]"
     ]
    },
    {
     "name": "stdout",
     "output_type": "stream",
     "text": [
      "71.57014925373129\n",
      "7.516153200451353\n",
      "4.136863886105574\n"
     ]
    },
    {
     "name": "stderr",
     "output_type": "stream",
     "text": [
      " 29%|██▉       | 88/300 [00:53<02:12,  1.60it/s]"
     ]
    },
    {
     "name": "stdout",
     "output_type": "stream",
     "text": [
      "72.39259259259254\n",
      "7.620420798057509\n",
      "4.182491371985715\n"
     ]
    },
    {
     "name": "stderr",
     "output_type": "stream",
     "text": [
      " 30%|██▉       | 89/300 [00:54<02:11,  1.60it/s]"
     ]
    },
    {
     "name": "stdout",
     "output_type": "stream",
     "text": [
      "73.2216694306246\n",
      "7.676166896079181\n",
      "4.225469737558306\n"
     ]
    },
    {
     "name": "stderr",
     "output_type": "stream",
     "text": [
      " 30%|███       | 90/300 [00:55<02:11,  1.60it/s]"
     ]
    },
    {
     "name": "stdout",
     "output_type": "stream",
     "text": [
      "74.03692647871748\n",
      "7.79384656885433\n",
      "4.272831724491151\n"
     ]
    },
    {
     "name": "stderr",
     "output_type": "stream",
     "text": [
      " 30%|███       | 91/300 [00:55<02:12,  1.58it/s]"
     ]
    },
    {
     "name": "stdout",
     "output_type": "stream",
     "text": [
      "74.85959093421775\n",
      "7.834210428532627\n",
      "4.329660914925704\n"
     ]
    },
    {
     "name": "stderr",
     "output_type": "stream",
     "text": [
      " 31%|███       | 92/300 [00:56<02:12,  1.57it/s]"
     ]
    },
    {
     "name": "stdout",
     "output_type": "stream",
     "text": [
      "75.68070757324483\n",
      "7.898725767958214\n",
      "4.375957663833336\n"
     ]
    },
    {
     "name": "stderr",
     "output_type": "stream",
     "text": [
      " 31%|███       | 93/300 [00:57<02:10,  1.59it/s]"
     ]
    },
    {
     "name": "stdout",
     "output_type": "stream",
     "text": [
      "76.49972360420117\n",
      "8.024855485345498\n",
      "4.4125356609849105\n"
     ]
    },
    {
     "name": "stderr",
     "output_type": "stream",
     "text": [
      " 31%|███▏      | 94/300 [00:57<02:09,  1.59it/s]"
     ]
    },
    {
     "name": "stdout",
     "output_type": "stream",
     "text": [
      "77.33421779988939\n",
      "8.06024766545183\n",
      "4.463271850797879\n"
     ]
    },
    {
     "name": "stderr",
     "output_type": "stream",
     "text": [
      " 32%|███▏      | 95/300 [00:58<02:06,  1.62it/s]"
     ]
    },
    {
     "name": "stdout",
     "output_type": "stream",
     "text": [
      "78.16329463792145\n",
      "8.140293710797753\n",
      "4.504128112213224\n"
     ]
    },
    {
     "name": "stderr",
     "output_type": "stream",
     "text": [
      " 32%|███▏      | 96/300 [00:59<02:09,  1.58it/s]"
     ]
    },
    {
     "name": "stdout",
     "output_type": "stream",
     "text": [
      "78.98220011055827\n",
      "8.228123720789233\n",
      "4.5478261593639875\n"
     ]
    },
    {
     "name": "stderr",
     "output_type": "stream",
     "text": [
      " 32%|███▏      | 97/300 [00:59<02:09,  1.57it/s]"
     ]
    },
    {
     "name": "stdout",
     "output_type": "stream",
     "text": [
      "79.81160862354886\n",
      "8.290141774544649\n",
      "4.594907962835057\n"
     ]
    },
    {
     "name": "stderr",
     "output_type": "stream",
     "text": [
      " 33%|███▎      | 98/300 [01:00<02:07,  1.59it/s]"
     ]
    },
    {
     "name": "stdout",
     "output_type": "stream",
     "text": [
      "80.63405196241011\n",
      "8.394409372150804\n",
      "4.640535448715198\n"
     ]
    },
    {
     "name": "stderr",
     "output_type": "stream",
     "text": [
      " 33%|███▎      | 99/300 [01:00<02:06,  1.58it/s]"
     ]
    },
    {
     "name": "stdout",
     "output_type": "stream",
     "text": [
      "81.46312880044218\n",
      "8.450155470172476\n",
      "4.68351381428779\n"
     ]
    },
    {
     "name": "stderr",
     "output_type": "stream",
     "text": [
      " 33%|███▎      | 100/300 [01:01<02:05,  1.60it/s]"
     ]
    },
    {
     "name": "stdout",
     "output_type": "stream",
     "text": [
      "82.27838584853505\n",
      "8.567835142947624\n",
      "4.730875801220634\n"
     ]
    },
    {
     "name": "stderr",
     "output_type": "stream",
     "text": [
      " 34%|███▎      | 101/300 [01:02<02:04,  1.60it/s]"
     ]
    },
    {
     "name": "stdout",
     "output_type": "stream",
     "text": [
      "83.10105030403533\n",
      "8.608199002625922\n",
      "4.787704991655187\n"
     ]
    },
    {
     "name": "stderr",
     "output_type": "stream",
     "text": [
      " 34%|███▍      | 102/300 [01:02<02:04,  1.59it/s]"
     ]
    },
    {
     "name": "stdout",
     "output_type": "stream",
     "text": [
      "83.92216694306241\n",
      "8.67271434205151\n",
      "4.83400174056282\n"
     ]
    },
    {
     "name": "stderr",
     "output_type": "stream",
     "text": [
      " 34%|███▍      | 103/300 [01:03<02:03,  1.60it/s]"
     ]
    },
    {
     "name": "stdout",
     "output_type": "stream",
     "text": [
      "84.74118297401874\n",
      "8.798844059438792\n",
      "4.870579737714394\n"
     ]
    },
    {
     "name": "stderr",
     "output_type": "stream",
     "text": [
      " 35%|███▍      | 104/300 [01:04<02:02,  1.60it/s]"
     ]
    },
    {
     "name": "stdout",
     "output_type": "stream",
     "text": [
      "85.57567716970696\n",
      "8.834236239545124\n",
      "4.921315927527362\n"
     ]
    },
    {
     "name": "stderr",
     "output_type": "stream",
     "text": [
      " 35%|███▌      | 105/300 [01:04<02:00,  1.62it/s]"
     ]
    },
    {
     "name": "stdout",
     "output_type": "stream",
     "text": [
      "86.40475400773903\n",
      "8.914282284891048\n",
      "4.9621721889427075\n"
     ]
    },
    {
     "name": "stderr",
     "output_type": "stream",
     "text": [
      " 35%|███▌      | 106/300 [01:05<02:00,  1.61it/s]"
     ]
    },
    {
     "name": "stdout",
     "output_type": "stream",
     "text": [
      "87.22365948037584\n",
      "9.002112294882528\n",
      "5.005870236093471\n"
     ]
    },
    {
     "name": "stderr",
     "output_type": "stream",
     "text": [
      " 36%|███▌      | 107/300 [01:05<02:01,  1.59it/s]"
     ]
    },
    {
     "name": "stdout",
     "output_type": "stream",
     "text": [
      "88.05306799336644\n",
      "9.064130348637944\n",
      "5.05295203956454\n"
     ]
    },
    {
     "name": "stderr",
     "output_type": "stream",
     "text": [
      " 36%|███▌      | 108/300 [01:06<02:00,  1.60it/s]"
     ]
    },
    {
     "name": "stdout",
     "output_type": "stream",
     "text": [
      "88.87551133222769\n",
      "9.168397946244099\n",
      "5.0985795254446815\n"
     ]
    },
    {
     "name": "stderr",
     "output_type": "stream",
     "text": [
      " 36%|███▋      | 109/300 [01:07<01:57,  1.62it/s]"
     ]
    },
    {
     "name": "stdout",
     "output_type": "stream",
     "text": [
      "89.70458817025975\n",
      "9.22414404426577\n",
      "5.141557891017273\n"
     ]
    },
    {
     "name": "stderr",
     "output_type": "stream",
     "text": [
      " 37%|███▋      | 110/300 [01:07<01:58,  1.61it/s]"
     ]
    },
    {
     "name": "stdout",
     "output_type": "stream",
     "text": [
      "90.51984521835263\n",
      "9.341823717040919\n",
      "5.188919877950117\n"
     ]
    },
    {
     "name": "stderr",
     "output_type": "stream",
     "text": [
      " 37%|███▋      | 111/300 [01:08<01:58,  1.60it/s]"
     ]
    },
    {
     "name": "stdout",
     "output_type": "stream",
     "text": [
      "91.3425096738529\n",
      "9.382187576719216\n",
      "5.24574906838467\n"
     ]
    },
    {
     "name": "stderr",
     "output_type": "stream",
     "text": [
      " 37%|███▋      | 112/300 [01:09<01:58,  1.59it/s]"
     ]
    },
    {
     "name": "stdout",
     "output_type": "stream",
     "text": [
      "92.16362631287998\n",
      "9.446702916144805\n",
      "5.292045817292303\n"
     ]
    },
    {
     "name": "stderr",
     "output_type": "stream",
     "text": [
      " 38%|███▊      | 113/300 [01:09<01:58,  1.58it/s]"
     ]
    },
    {
     "name": "stdout",
     "output_type": "stream",
     "text": [
      "92.98264234383632\n",
      "9.572832633532087\n",
      "5.328623814443877\n"
     ]
    },
    {
     "name": "stderr",
     "output_type": "stream",
     "text": [
      " 38%|███▊      | 114/300 [01:10<01:57,  1.58it/s]"
     ]
    },
    {
     "name": "stdout",
     "output_type": "stream",
     "text": [
      "93.81713653952454\n",
      "9.608224813638419\n",
      "5.379360004256846\n"
     ]
    },
    {
     "name": "stderr",
     "output_type": "stream",
     "text": [
      " 38%|███▊      | 115/300 [01:10<01:56,  1.59it/s]"
     ]
    },
    {
     "name": "stdout",
     "output_type": "stream",
     "text": [
      "94.6462133775566\n",
      "9.688270858984342\n",
      "5.420216265672191\n"
     ]
    },
    {
     "name": "stderr",
     "output_type": "stream",
     "text": [
      " 39%|███▊      | 116/300 [01:11<01:56,  1.58it/s]"
     ]
    },
    {
     "name": "stdout",
     "output_type": "stream",
     "text": [
      "95.46511885019342\n",
      "9.776100868975822\n",
      "5.463914312822954\n"
     ]
    },
    {
     "name": "stderr",
     "output_type": "stream",
     "text": [
      " 39%|███▉      | 117/300 [01:12<01:55,  1.59it/s]"
     ]
    },
    {
     "name": "stdout",
     "output_type": "stream",
     "text": [
      "96.29452736318402\n",
      "9.838118922731239\n",
      "5.510996116294024\n"
     ]
    },
    {
     "name": "stderr",
     "output_type": "stream",
     "text": [
      " 39%|███▉      | 118/300 [01:12<01:54,  1.58it/s]"
     ]
    },
    {
     "name": "stdout",
     "output_type": "stream",
     "text": [
      "97.11697070204526\n",
      "9.942386520337394\n",
      "5.556623602174165\n"
     ]
    },
    {
     "name": "stderr",
     "output_type": "stream",
     "text": [
      " 40%|███▉      | 119/300 [01:13<01:53,  1.60it/s]"
     ]
    },
    {
     "name": "stdout",
     "output_type": "stream",
     "text": [
      "97.94604754007733\n",
      "9.998132618359065\n",
      "5.599601967746756\n"
     ]
    },
    {
     "name": "stderr",
     "output_type": "stream",
     "text": [
      " 40%|████      | 120/300 [01:14<01:52,  1.60it/s]"
     ]
    },
    {
     "name": "stdout",
     "output_type": "stream",
     "text": [
      "98.7613045881702\n",
      "10.115812291134214\n",
      "5.646963954679601\n"
     ]
    },
    {
     "name": "stderr",
     "output_type": "stream",
     "text": [
      " 40%|████      | 121/300 [01:14<01:51,  1.61it/s]"
     ]
    },
    {
     "name": "stdout",
     "output_type": "stream",
     "text": [
      "99.58396904367048\n",
      "10.156176150812511\n",
      "5.703793145114154\n"
     ]
    },
    {
     "name": "stderr",
     "output_type": "stream",
     "text": [
      " 41%|████      | 122/300 [01:15<01:50,  1.61it/s]"
     ]
    },
    {
     "name": "stdout",
     "output_type": "stream",
     "text": [
      "100.40508568269756\n",
      "10.2206914902381\n",
      "5.750089894021786\n"
     ]
    },
    {
     "name": "stderr",
     "output_type": "stream",
     "text": [
      " 41%|████      | 123/300 [01:15<01:49,  1.61it/s]"
     ]
    },
    {
     "name": "stdout",
     "output_type": "stream",
     "text": [
      "101.2241017136539\n",
      "10.346821207625382\n",
      "5.7866678911733604\n"
     ]
    },
    {
     "name": "stderr",
     "output_type": "stream",
     "text": [
      " 41%|████▏     | 124/300 [01:16<01:49,  1.61it/s]"
     ]
    },
    {
     "name": "stdout",
     "output_type": "stream",
     "text": [
      "102.05859590934212\n",
      "10.382213387731714\n",
      "5.837404080986329\n"
     ]
    },
    {
     "name": "stderr",
     "output_type": "stream",
     "text": [
      " 42%|████▏     | 125/300 [01:17<01:46,  1.64it/s]"
     ]
    },
    {
     "name": "stdout",
     "output_type": "stream",
     "text": [
      "102.88767274737418\n",
      "10.462259433077637\n",
      "5.878260342401674\n"
     ]
    },
    {
     "name": "stderr",
     "output_type": "stream",
     "text": [
      " 42%|████▏     | 126/300 [01:17<01:48,  1.60it/s]"
     ]
    },
    {
     "name": "stdout",
     "output_type": "stream",
     "text": [
      "103.706578220011\n",
      "10.550089443069117\n",
      "5.9219583895524375\n"
     ]
    },
    {
     "name": "stderr",
     "output_type": "stream",
     "text": [
      " 42%|████▏     | 127/300 [01:18<01:47,  1.60it/s]"
     ]
    },
    {
     "name": "stdout",
     "output_type": "stream",
     "text": [
      "104.5359867330016\n",
      "10.612107496824533\n",
      "5.969040193023507\n"
     ]
    },
    {
     "name": "stderr",
     "output_type": "stream",
     "text": [
      " 43%|████▎     | 128/300 [01:19<01:47,  1.60it/s]"
     ]
    },
    {
     "name": "stdout",
     "output_type": "stream",
     "text": [
      "105.35843007186284\n",
      "10.716375094430688\n",
      "6.014667678903648\n"
     ]
    },
    {
     "name": "stderr",
     "output_type": "stream",
     "text": [
      " 43%|████▎     | 129/300 [01:19<01:46,  1.61it/s]"
     ]
    },
    {
     "name": "stdout",
     "output_type": "stream",
     "text": [
      "106.1875069098949\n",
      "10.77212119245236\n",
      "6.05764604447624\n"
     ]
    },
    {
     "name": "stderr",
     "output_type": "stream",
     "text": [
      " 43%|████▎     | 130/300 [01:20<01:44,  1.63it/s]"
     ]
    },
    {
     "name": "stdout",
     "output_type": "stream",
     "text": [
      "107.00276395798778\n",
      "10.889800865227508\n",
      "6.105008031409084\n"
     ]
    },
    {
     "name": "stderr",
     "output_type": "stream",
     "text": [
      " 44%|████▎     | 131/300 [01:20<01:45,  1.61it/s]"
     ]
    },
    {
     "name": "stdout",
     "output_type": "stream",
     "text": [
      "107.82542841348805\n",
      "10.930164724905806\n",
      "6.161837221843637\n"
     ]
    },
    {
     "name": "stderr",
     "output_type": "stream",
     "text": [
      " 44%|████▍     | 132/300 [01:21<01:44,  1.60it/s]"
     ]
    },
    {
     "name": "stdout",
     "output_type": "stream",
     "text": [
      "108.64654505251514\n",
      "10.994680064331394\n",
      "6.20813397075127\n"
     ]
    },
    {
     "name": "stderr",
     "output_type": "stream",
     "text": [
      " 44%|████▍     | 133/300 [01:22<01:43,  1.61it/s]"
     ]
    },
    {
     "name": "stdout",
     "output_type": "stream",
     "text": [
      "109.46556108347147\n",
      "11.120809781718677\n",
      "6.244711967902844\n"
     ]
    },
    {
     "name": "stderr",
     "output_type": "stream",
     "text": [
      " 45%|████▍     | 134/300 [01:22<01:42,  1.62it/s]"
     ]
    },
    {
     "name": "stdout",
     "output_type": "stream",
     "text": [
      "110.3000552791597\n",
      "11.156201961825008\n",
      "6.295448157715812\n"
     ]
    },
    {
     "name": "stderr",
     "output_type": "stream",
     "text": [
      " 45%|████▌     | 135/300 [01:23<01:40,  1.64it/s]"
     ]
    },
    {
     "name": "stdout",
     "output_type": "stream",
     "text": [
      "111.12913211719176\n",
      "11.236248007170932\n",
      "6.3363044191311575\n"
     ]
    },
    {
     "name": "stderr",
     "output_type": "stream",
     "text": [
      " 45%|████▌     | 136/300 [01:23<01:42,  1.60it/s]"
     ]
    },
    {
     "name": "stdout",
     "output_type": "stream",
     "text": [
      "111.94803758982857\n",
      "11.324078017162412\n",
      "6.380002466281921\n"
     ]
    },
    {
     "name": "stderr",
     "output_type": "stream",
     "text": [
      " 46%|████▌     | 137/300 [01:24<01:42,  1.59it/s]"
     ]
    },
    {
     "name": "stdout",
     "output_type": "stream",
     "text": [
      "112.77744610281917\n",
      "11.386096070917828\n",
      "6.42708426975299\n"
     ]
    },
    {
     "name": "stderr",
     "output_type": "stream",
     "text": [
      " 46%|████▌     | 138/300 [01:25<01:40,  1.61it/s]"
     ]
    },
    {
     "name": "stdout",
     "output_type": "stream",
     "text": [
      "113.59988944168042\n",
      "11.490363668523983\n",
      "6.4727117556331315\n"
     ]
    },
    {
     "name": "stderr",
     "output_type": "stream",
     "text": [
      " 46%|████▋     | 139/300 [01:25<01:40,  1.60it/s]"
     ]
    },
    {
     "name": "stdout",
     "output_type": "stream",
     "text": [
      "114.42896627971248\n",
      "11.546109766545655\n",
      "6.515690121205723\n"
     ]
    },
    {
     "name": "stderr",
     "output_type": "stream",
     "text": [
      " 47%|████▋     | 140/300 [01:26<01:39,  1.61it/s]"
     ]
    },
    {
     "name": "stdout",
     "output_type": "stream",
     "text": [
      "115.24422332780536\n",
      "11.663789439320803\n",
      "6.563052108138567\n"
     ]
    },
    {
     "name": "stderr",
     "output_type": "stream",
     "text": [
      " 47%|████▋     | 141/300 [01:27<01:39,  1.59it/s]"
     ]
    },
    {
     "name": "stdout",
     "output_type": "stream",
     "text": [
      "116.06688778330563\n",
      "11.7041532989991\n",
      "6.61988129857312\n"
     ]
    },
    {
     "name": "stderr",
     "output_type": "stream",
     "text": [
      " 47%|████▋     | 142/300 [01:27<01:39,  1.58it/s]"
     ]
    },
    {
     "name": "stdout",
     "output_type": "stream",
     "text": [
      "116.88800442233271\n",
      "11.768668638424689\n",
      "6.666178047480753\n"
     ]
    },
    {
     "name": "stderr",
     "output_type": "stream",
     "text": [
      " 48%|████▊     | 143/300 [01:28<01:37,  1.61it/s]"
     ]
    },
    {
     "name": "stdout",
     "output_type": "stream",
     "text": [
      "117.70702045328905\n",
      "11.894798355811972\n",
      "6.702756044632327\n"
     ]
    },
    {
     "name": "stderr",
     "output_type": "stream",
     "text": [
      " 48%|████▊     | 144/300 [01:28<01:37,  1.61it/s]"
     ]
    },
    {
     "name": "stdout",
     "output_type": "stream",
     "text": [
      "118.54151464897727\n",
      "11.930190535918303\n",
      "6.753492234445296\n"
     ]
    },
    {
     "name": "stderr",
     "output_type": "stream",
     "text": [
      " 48%|████▊     | 145/300 [01:29<01:35,  1.63it/s]"
     ]
    },
    {
     "name": "stdout",
     "output_type": "stream",
     "text": [
      "119.37059148700934\n",
      "12.010236581264227\n",
      "6.794348495860641\n"
     ]
    },
    {
     "name": "stderr",
     "output_type": "stream",
     "text": [
      " 49%|████▊     | 146/300 [01:30<01:35,  1.62it/s]"
     ]
    },
    {
     "name": "stdout",
     "output_type": "stream",
     "text": [
      "120.18949695964615\n",
      "12.098066591255707\n",
      "6.838046543011404\n"
     ]
    },
    {
     "name": "stderr",
     "output_type": "stream",
     "text": [
      " 49%|████▉     | 147/300 [01:30<01:35,  1.60it/s]"
     ]
    },
    {
     "name": "stdout",
     "output_type": "stream",
     "text": [
      "121.01890547263675\n",
      "12.160084645011123\n",
      "6.885128346482474\n"
     ]
    },
    {
     "name": "stderr",
     "output_type": "stream",
     "text": [
      " 49%|████▉     | 148/300 [01:31<01:34,  1.61it/s]"
     ]
    },
    {
     "name": "stdout",
     "output_type": "stream",
     "text": [
      "121.841348811498\n",
      "12.264352242617278\n",
      "6.930755832362615\n"
     ]
    },
    {
     "name": "stderr",
     "output_type": "stream",
     "text": [
      " 50%|████▉     | 149/300 [01:32<01:34,  1.61it/s]"
     ]
    },
    {
     "name": "stdout",
     "output_type": "stream",
     "text": [
      "122.67042564953006\n",
      "12.32009834063895\n",
      "6.973734197935206\n"
     ]
    },
    {
     "name": "stderr",
     "output_type": "stream",
     "text": [
      " 50%|█████     | 150/300 [01:32<01:34,  1.59it/s]"
     ]
    },
    {
     "name": "stdout",
     "output_type": "stream",
     "text": [
      "123.48568269762293\n",
      "12.437778013414098\n",
      "7.021096184868051\n"
     ]
    },
    {
     "name": "stderr",
     "output_type": "stream",
     "text": [
      " 50%|█████     | 151/300 [01:33<01:33,  1.59it/s]"
     ]
    },
    {
     "name": "stdout",
     "output_type": "stream",
     "text": [
      "124.30834715312321\n",
      "12.478141873092396\n",
      "7.077925375302604\n"
     ]
    },
    {
     "name": "stderr",
     "output_type": "stream",
     "text": [
      " 51%|█████     | 152/300 [01:34<01:34,  1.56it/s]"
     ]
    },
    {
     "name": "stdout",
     "output_type": "stream",
     "text": [
      "125.12946379215029\n",
      "12.542657212517984\n",
      "7.124222124210236\n"
     ]
    },
    {
     "name": "stderr",
     "output_type": "stream",
     "text": [
      " 51%|█████     | 153/300 [01:34<01:33,  1.57it/s]"
     ]
    },
    {
     "name": "stdout",
     "output_type": "stream",
     "text": [
      "125.94847982310662\n",
      "12.668786929905266\n",
      "7.16080012136181\n"
     ]
    },
    {
     "name": "stderr",
     "output_type": "stream",
     "text": [
      " 51%|█████▏    | 154/300 [01:35<01:32,  1.58it/s]"
     ]
    },
    {
     "name": "stdout",
     "output_type": "stream",
     "text": [
      "126.78297401879485\n",
      "12.704179110011598\n",
      "7.211536311174779\n"
     ]
    },
    {
     "name": "stderr",
     "output_type": "stream",
     "text": [
      " 52%|█████▏    | 155/300 [01:35<01:31,  1.59it/s]"
     ]
    },
    {
     "name": "stdout",
     "output_type": "stream",
     "text": [
      "127.61205085682691\n",
      "12.784225155357522\n",
      "7.252392572590124\n"
     ]
    },
    {
     "name": "stderr",
     "output_type": "stream",
     "text": [
      " 52%|█████▏    | 156/300 [01:36<01:32,  1.56it/s]"
     ]
    },
    {
     "name": "stdout",
     "output_type": "stream",
     "text": [
      "128.43095632946373\n",
      "12.872055165349002\n",
      "7.2960906197408875\n"
     ]
    },
    {
     "name": "stderr",
     "output_type": "stream",
     "text": [
      " 52%|█████▏    | 157/300 [01:37<01:31,  1.56it/s]"
     ]
    },
    {
     "name": "stdout",
     "output_type": "stream",
     "text": [
      "129.26036484245432\n",
      "12.934073219104418\n",
      "7.343172423211957\n"
     ]
    },
    {
     "name": "stderr",
     "output_type": "stream",
     "text": [
      " 53%|█████▎    | 158/300 [01:37<01:30,  1.57it/s]"
     ]
    },
    {
     "name": "stdout",
     "output_type": "stream",
     "text": [
      "130.08280818131558\n",
      "13.038340816710573\n",
      "7.388799909092098\n"
     ]
    },
    {
     "name": "stderr",
     "output_type": "stream",
     "text": [
      " 53%|█████▎    | 159/300 [01:38<01:28,  1.59it/s]"
     ]
    },
    {
     "name": "stdout",
     "output_type": "stream",
     "text": [
      "130.91188501934764\n",
      "13.094086914732245\n",
      "7.43177827466469\n"
     ]
    },
    {
     "name": "stderr",
     "output_type": "stream",
     "text": [
      " 53%|█████▎    | 160/300 [01:39<01:28,  1.59it/s]"
     ]
    },
    {
     "name": "stdout",
     "output_type": "stream",
     "text": [
      "131.7271420674405\n",
      "13.211766587507393\n",
      "7.479140261597534\n"
     ]
    },
    {
     "name": "stderr",
     "output_type": "stream",
     "text": [
      " 54%|█████▎    | 161/300 [01:39<01:28,  1.57it/s]"
     ]
    },
    {
     "name": "stdout",
     "output_type": "stream",
     "text": [
      "132.54980652294077\n",
      "13.25213044718569\n",
      "7.535969452032087\n"
     ]
    },
    {
     "name": "stderr",
     "output_type": "stream",
     "text": [
      " 54%|█████▍    | 162/300 [01:40<01:27,  1.57it/s]"
     ]
    },
    {
     "name": "stdout",
     "output_type": "stream",
     "text": [
      "133.37092316196785\n",
      "13.316645786611279\n",
      "7.58226620093972\n"
     ]
    },
    {
     "name": "stderr",
     "output_type": "stream",
     "text": [
      " 54%|█████▍    | 163/300 [01:41<01:27,  1.56it/s]"
     ]
    },
    {
     "name": "stdout",
     "output_type": "stream",
     "text": [
      "134.1899391929242\n",
      "13.442775503998561\n",
      "7.618844198091294\n"
     ]
    },
    {
     "name": "stderr",
     "output_type": "stream",
     "text": [
      " 55%|█████▍    | 164/300 [01:41<01:26,  1.57it/s]"
     ]
    },
    {
     "name": "stdout",
     "output_type": "stream",
     "text": [
      "135.0244333886124\n",
      "13.478167684104893\n",
      "7.669580387904262\n"
     ]
    },
    {
     "name": "stderr",
     "output_type": "stream",
     "text": [
      " 55%|█████▌    | 165/300 [01:42<01:26,  1.56it/s]"
     ]
    },
    {
     "name": "stdout",
     "output_type": "stream",
     "text": [
      "135.85351022664446\n",
      "13.558213729450816\n",
      "7.7104366493196075\n"
     ]
    },
    {
     "name": "stderr",
     "output_type": "stream",
     "text": [
      " 55%|█████▌    | 166/300 [01:42<01:26,  1.55it/s]"
     ]
    },
    {
     "name": "stdout",
     "output_type": "stream",
     "text": [
      "136.6724156992813\n",
      "13.646043739442296\n",
      "7.754134696470371\n"
     ]
    },
    {
     "name": "stderr",
     "output_type": "stream",
     "text": [
      " 56%|█████▌    | 167/300 [01:43<01:27,  1.52it/s]"
     ]
    },
    {
     "name": "stdout",
     "output_type": "stream",
     "text": [
      "137.50182421227188\n",
      "13.708061793197713\n",
      "7.80121649994144\n"
     ]
    },
    {
     "name": "stderr",
     "output_type": "stream",
     "text": [
      " 56%|█████▌    | 168/300 [01:44<01:25,  1.54it/s]"
     ]
    },
    {
     "name": "stdout",
     "output_type": "stream",
     "text": [
      "138.32426755113315\n",
      "13.812329390803868\n",
      "7.8468439858215815\n"
     ]
    },
    {
     "name": "stderr",
     "output_type": "stream",
     "text": [
      " 56%|█████▋    | 169/300 [01:44<01:25,  1.54it/s]"
     ]
    },
    {
     "name": "stdout",
     "output_type": "stream",
     "text": [
      "139.1533443891652\n",
      "13.86807548882554\n",
      "7.889822351394173\n"
     ]
    },
    {
     "name": "stderr",
     "output_type": "stream",
     "text": [
      " 57%|█████▋    | 170/300 [01:45<01:24,  1.54it/s]"
     ]
    },
    {
     "name": "stdout",
     "output_type": "stream",
     "text": [
      "139.96860143725806\n",
      "13.985755161600688\n",
      "7.937184338327017\n"
     ]
    },
    {
     "name": "stderr",
     "output_type": "stream",
     "text": [
      " 57%|█████▋    | 171/300 [01:46<01:23,  1.54it/s]"
     ]
    },
    {
     "name": "stdout",
     "output_type": "stream",
     "text": [
      "140.79126589275833\n",
      "14.026119021278985\n",
      "7.99401352876157\n"
     ]
    },
    {
     "name": "stderr",
     "output_type": "stream",
     "text": [
      " 57%|█████▋    | 172/300 [01:46<01:23,  1.53it/s]"
     ]
    },
    {
     "name": "stdout",
     "output_type": "stream",
     "text": [
      "141.6123825317854\n",
      "14.090634360704573\n",
      "8.040310277669203\n"
     ]
    },
    {
     "name": "stderr",
     "output_type": "stream",
     "text": [
      " 58%|█████▊    | 173/300 [01:47<01:23,  1.52it/s]"
     ]
    },
    {
     "name": "stdout",
     "output_type": "stream",
     "text": [
      "142.43139856274175\n",
      "14.216764078091856\n",
      "8.076888274820778\n"
     ]
    },
    {
     "name": "stderr",
     "output_type": "stream",
     "text": [
      " 58%|█████▊    | 174/300 [01:48<01:22,  1.53it/s]"
     ]
    },
    {
     "name": "stdout",
     "output_type": "stream",
     "text": [
      "143.26589275842997\n",
      "14.252156258198188\n",
      "8.127624464633747\n"
     ]
    },
    {
     "name": "stderr",
     "output_type": "stream",
     "text": [
      " 58%|█████▊    | 175/300 [01:48<01:22,  1.52it/s]"
     ]
    },
    {
     "name": "stdout",
     "output_type": "stream",
     "text": [
      "144.09496959646202\n",
      "14.332202303544111\n",
      "8.168480726049093\n"
     ]
    },
    {
     "name": "stderr",
     "output_type": "stream",
     "text": [
      " 59%|█████▊    | 176/300 [01:49<01:22,  1.51it/s]"
     ]
    },
    {
     "name": "stdout",
     "output_type": "stream",
     "text": [
      "144.91387506909885\n",
      "14.420032313535591\n",
      "8.212178773199856\n"
     ]
    },
    {
     "name": "stderr",
     "output_type": "stream",
     "text": [
      " 59%|█████▉    | 177/300 [01:50<01:21,  1.52it/s]"
     ]
    },
    {
     "name": "stdout",
     "output_type": "stream",
     "text": [
      "145.74328358208945\n",
      "14.482050367291007\n",
      "8.259260576670926\n"
     ]
    },
    {
     "name": "stderr",
     "output_type": "stream",
     "text": [
      " 59%|█████▉    | 178/300 [01:50<01:20,  1.52it/s]"
     ]
    },
    {
     "name": "stdout",
     "output_type": "stream",
     "text": [
      "146.5657269209507\n",
      "14.586317964897162\n",
      "8.304888062551067\n"
     ]
    },
    {
     "name": "stderr",
     "output_type": "stream",
     "text": [
      " 60%|█████▉    | 179/300 [01:51<01:18,  1.55it/s]"
     ]
    },
    {
     "name": "stdout",
     "output_type": "stream",
     "text": [
      "147.39480375898276\n",
      "14.642064062918834\n",
      "8.347866428123657\n"
     ]
    },
    {
     "name": "stderr",
     "output_type": "stream",
     "text": [
      " 60%|██████    | 180/300 [01:52<01:17,  1.55it/s]"
     ]
    },
    {
     "name": "stdout",
     "output_type": "stream",
     "text": [
      "148.21006080707562\n",
      "14.759743735693982\n",
      "8.395228415056502\n"
     ]
    },
    {
     "name": "stderr",
     "output_type": "stream",
     "text": [
      " 60%|██████    | 181/300 [01:52<01:17,  1.54it/s]"
     ]
    },
    {
     "name": "stdout",
     "output_type": "stream",
     "text": [
      "149.0327252625759\n",
      "14.80010759537228\n",
      "8.452057605491056\n"
     ]
    },
    {
     "name": "stderr",
     "output_type": "stream",
     "text": [
      " 61%|██████    | 182/300 [01:53<01:17,  1.52it/s]"
     ]
    },
    {
     "name": "stdout",
     "output_type": "stream",
     "text": [
      "149.85384190160298\n",
      "14.864622934797868\n",
      "8.498354354398689\n"
     ]
    },
    {
     "name": "stderr",
     "output_type": "stream",
     "text": [
      " 61%|██████    | 183/300 [01:54<01:17,  1.51it/s]"
     ]
    },
    {
     "name": "stdout",
     "output_type": "stream",
     "text": [
      "150.6728579325593\n",
      "14.99075265218515\n",
      "8.534932351550264\n"
     ]
    },
    {
     "name": "stderr",
     "output_type": "stream",
     "text": [
      " 61%|██████▏   | 184/300 [01:54<01:17,  1.51it/s]"
     ]
    },
    {
     "name": "stdout",
     "output_type": "stream",
     "text": [
      "151.50735212824753\n",
      "15.026144832291482\n",
      "8.585668541363233\n"
     ]
    },
    {
     "name": "stderr",
     "output_type": "stream",
     "text": [
      " 62%|██████▏   | 185/300 [01:55<01:15,  1.52it/s]"
     ]
    },
    {
     "name": "stdout",
     "output_type": "stream",
     "text": [
      "152.33642896627958\n",
      "15.106190877637406\n",
      "8.62652480277858\n"
     ]
    },
    {
     "name": "stderr",
     "output_type": "stream",
     "text": [
      " 62%|██████▏   | 186/300 [01:56<01:16,  1.48it/s]"
     ]
    },
    {
     "name": "stdout",
     "output_type": "stream",
     "text": [
      "153.1553344389164\n",
      "15.194020887628886\n",
      "8.670222849929342\n"
     ]
    },
    {
     "name": "stderr",
     "output_type": "stream",
     "text": [
      " 62%|██████▏   | 187/300 [01:56<01:17,  1.46it/s]"
     ]
    },
    {
     "name": "stdout",
     "output_type": "stream",
     "text": [
      "153.984742951907\n",
      "15.256038941384302\n",
      "8.717304653400411\n"
     ]
    },
    {
     "name": "stderr",
     "output_type": "stream",
     "text": [
      " 63%|██████▎   | 188/300 [01:57<01:15,  1.48it/s]"
     ]
    },
    {
     "name": "stdout",
     "output_type": "stream",
     "text": [
      "154.80718629076827\n",
      "15.360306538990457\n",
      "8.762932139280553\n"
     ]
    },
    {
     "name": "stderr",
     "output_type": "stream",
     "text": [
      " 63%|██████▎   | 189/300 [01:58<01:14,  1.49it/s]"
     ]
    },
    {
     "name": "stdout",
     "output_type": "stream",
     "text": [
      "155.63626312880032\n",
      "15.416052637012129\n",
      "8.805910504853143\n"
     ]
    },
    {
     "name": "stderr",
     "output_type": "stream",
     "text": [
      " 63%|██████▎   | 190/300 [01:58<01:13,  1.51it/s]"
     ]
    },
    {
     "name": "stdout",
     "output_type": "stream",
     "text": [
      "156.45152017689318\n",
      "15.533732309787277\n",
      "8.853272491785988\n"
     ]
    },
    {
     "name": "stderr",
     "output_type": "stream",
     "text": [
      " 64%|██████▎   | 191/300 [01:59<01:12,  1.51it/s]"
     ]
    },
    {
     "name": "stdout",
     "output_type": "stream",
     "text": [
      "157.27418463239346\n",
      "15.574096169465575\n",
      "8.910101682220542\n"
     ]
    },
    {
     "name": "stderr",
     "output_type": "stream",
     "text": [
      " 64%|██████▍   | 192/300 [02:00<01:11,  1.50it/s]"
     ]
    },
    {
     "name": "stdout",
     "output_type": "stream",
     "text": [
      "158.09530127142054\n",
      "15.638611508891163\n",
      "8.956398431128175\n"
     ]
    },
    {
     "name": "stderr",
     "output_type": "stream",
     "text": [
      " 64%|██████▍   | 193/300 [02:00<01:11,  1.51it/s]"
     ]
    },
    {
     "name": "stdout",
     "output_type": "stream",
     "text": [
      "158.91431730237687\n",
      "15.764741226278446\n",
      "8.99297642827975\n"
     ]
    },
    {
     "name": "stderr",
     "output_type": "stream",
     "text": [
      " 65%|██████▍   | 194/300 [02:01<01:09,  1.54it/s]"
     ]
    },
    {
     "name": "stdout",
     "output_type": "stream",
     "text": [
      "159.7488114980651\n",
      "15.800133406384777\n",
      "9.04371261809272\n"
     ]
    },
    {
     "name": "stderr",
     "output_type": "stream",
     "text": [
      " 65%|██████▌   | 195/300 [02:02<01:07,  1.55it/s]"
     ]
    },
    {
     "name": "stdout",
     "output_type": "stream",
     "text": [
      "160.57788833609715\n",
      "15.880179451730701\n",
      "9.084568879508065\n"
     ]
    },
    {
     "name": "stderr",
     "output_type": "stream",
     "text": [
      " 65%|██████▌   | 196/300 [02:02<01:07,  1.54it/s]"
     ]
    },
    {
     "name": "stdout",
     "output_type": "stream",
     "text": [
      "161.39679380873397\n",
      "15.96800946172218\n",
      "9.128266926658828\n"
     ]
    },
    {
     "name": "stderr",
     "output_type": "stream",
     "text": [
      " 66%|██████▌   | 197/300 [02:03<01:06,  1.55it/s]"
     ]
    },
    {
     "name": "stdout",
     "output_type": "stream",
     "text": [
      "162.22620232172457\n",
      "16.0300275154776\n",
      "9.175348730129897\n"
     ]
    },
    {
     "name": "stderr",
     "output_type": "stream",
     "text": [
      " 66%|██████▌   | 198/300 [02:03<01:05,  1.56it/s]"
     ]
    },
    {
     "name": "stdout",
     "output_type": "stream",
     "text": [
      "163.04864566058583\n",
      "16.134295113083756\n",
      "9.220976216010039\n"
     ]
    },
    {
     "name": "stderr",
     "output_type": "stream",
     "text": [
      " 66%|██████▋   | 199/300 [02:04<01:04,  1.56it/s]"
     ]
    },
    {
     "name": "stdout",
     "output_type": "stream",
     "text": [
      "163.87772249861789\n",
      "16.190041211105427\n",
      "9.26395458158263\n"
     ]
    },
    {
     "name": "stderr",
     "output_type": "stream",
     "text": [
      " 67%|██████▋   | 200/300 [02:05<01:03,  1.57it/s]"
     ]
    },
    {
     "name": "stdout",
     "output_type": "stream",
     "text": [
      "164.69297954671075\n",
      "16.307720883880577\n",
      "9.311316568515474\n"
     ]
    },
    {
     "name": "stderr",
     "output_type": "stream",
     "text": [
      " 67%|██████▋   | 201/300 [02:05<01:03,  1.56it/s]"
     ]
    },
    {
     "name": "stdout",
     "output_type": "stream",
     "text": [
      "165.51564400221102\n",
      "16.348084743558875\n",
      "9.368145758950028\n"
     ]
    },
    {
     "name": "stderr",
     "output_type": "stream",
     "text": [
      " 67%|██████▋   | 202/300 [02:06<01:02,  1.56it/s]"
     ]
    },
    {
     "name": "stdout",
     "output_type": "stream",
     "text": [
      "166.3367606412381\n",
      "16.41260008298446\n",
      "9.414442507857661\n"
     ]
    },
    {
     "name": "stderr",
     "output_type": "stream",
     "text": [
      " 68%|██████▊   | 203/300 [02:07<01:03,  1.54it/s]"
     ]
    },
    {
     "name": "stdout",
     "output_type": "stream",
     "text": [
      "167.15577667219443\n",
      "16.538729800371744\n",
      "9.451020505009236\n"
     ]
    },
    {
     "name": "stderr",
     "output_type": "stream",
     "text": [
      " 68%|██████▊   | 204/300 [02:07<01:02,  1.53it/s]"
     ]
    },
    {
     "name": "stdout",
     "output_type": "stream",
     "text": [
      "167.99027086788266\n",
      "16.574121980478075\n",
      "9.501756694822205\n"
     ]
    },
    {
     "name": "stderr",
     "output_type": "stream",
     "text": [
      " 68%|██████▊   | 205/300 [02:08<01:00,  1.57it/s]"
     ]
    },
    {
     "name": "stdout",
     "output_type": "stream",
     "text": [
      "168.8193477059147\n",
      "16.654168025824\n",
      "9.542612956237551\n"
     ]
    },
    {
     "name": "stderr",
     "output_type": "stream",
     "text": [
      " 69%|██████▊   | 206/300 [02:09<01:00,  1.54it/s]"
     ]
    },
    {
     "name": "stdout",
     "output_type": "stream",
     "text": [
      "169.63825317855154\n",
      "16.741998035815477\n",
      "9.586311003388314\n"
     ]
    },
    {
     "name": "stderr",
     "output_type": "stream",
     "text": [
      " 69%|██████▉   | 207/300 [02:09<01:01,  1.52it/s]"
     ]
    },
    {
     "name": "stdout",
     "output_type": "stream",
     "text": [
      "170.46766169154213\n",
      "16.804016089570894\n",
      "9.633392806859383\n"
     ]
    },
    {
     "name": "stderr",
     "output_type": "stream",
     "text": [
      " 69%|██████▉   | 208/300 [02:10<01:00,  1.53it/s]"
     ]
    },
    {
     "name": "stdout",
     "output_type": "stream",
     "text": [
      "171.2901050304034\n",
      "16.90828368717705\n",
      "9.679020292739525\n"
     ]
    },
    {
     "name": "stderr",
     "output_type": "stream",
     "text": [
      " 70%|██████▉   | 209/300 [02:11<00:59,  1.54it/s]"
     ]
    },
    {
     "name": "stdout",
     "output_type": "stream",
     "text": [
      "172.11918186843545\n",
      "16.964029785198722\n",
      "9.721998658312115\n"
     ]
    },
    {
     "name": "stderr",
     "output_type": "stream",
     "text": [
      " 70%|███████   | 210/300 [02:11<00:58,  1.54it/s]"
     ]
    },
    {
     "name": "stdout",
     "output_type": "stream",
     "text": [
      "172.9344389165283\n",
      "17.081709457973872\n",
      "9.76936064524496\n"
     ]
    },
    {
     "name": "stderr",
     "output_type": "stream",
     "text": [
      " 70%|███████   | 211/300 [02:12<00:57,  1.54it/s]"
     ]
    },
    {
     "name": "stdout",
     "output_type": "stream",
     "text": [
      "173.75710337202858\n",
      "17.12207331765217\n",
      "9.826189835679514\n"
     ]
    },
    {
     "name": "stderr",
     "output_type": "stream",
     "text": [
      " 71%|███████   | 212/300 [02:13<00:57,  1.54it/s]"
     ]
    },
    {
     "name": "stdout",
     "output_type": "stream",
     "text": [
      "174.57822001105566\n",
      "17.186588657077756\n",
      "9.872486584587147\n"
     ]
    },
    {
     "name": "stderr",
     "output_type": "stream",
     "text": [
      " 71%|███████   | 213/300 [02:13<00:56,  1.54it/s]"
     ]
    },
    {
     "name": "stdout",
     "output_type": "stream",
     "text": [
      "175.397236042012\n",
      "17.31271837446504\n",
      "9.909064581738722\n"
     ]
    },
    {
     "name": "stderr",
     "output_type": "stream",
     "text": [
      " 71%|███████▏  | 214/300 [02:14<00:55,  1.56it/s]"
     ]
    },
    {
     "name": "stdout",
     "output_type": "stream",
     "text": [
      "176.23173023770022\n",
      "17.34811055457137\n",
      "9.959800771551691\n"
     ]
    },
    {
     "name": "stderr",
     "output_type": "stream",
     "text": [
      " 72%|███████▏  | 215/300 [02:15<00:57,  1.47it/s]"
     ]
    },
    {
     "name": "stdout",
     "output_type": "stream",
     "text": [
      "177.06080707573227\n",
      "17.428156599917294\n",
      "10.000657032967037\n"
     ]
    },
    {
     "name": "stderr",
     "output_type": "stream",
     "text": [
      " 72%|███████▏  | 216/300 [02:15<00:57,  1.46it/s]"
     ]
    },
    {
     "name": "stdout",
     "output_type": "stream",
     "text": [
      "177.8797125483691\n",
      "17.515986609908772\n",
      "10.0443550801178\n"
     ]
    },
    {
     "name": "stderr",
     "output_type": "stream",
     "text": [
      " 72%|███████▏  | 217/300 [02:16<00:56,  1.48it/s]"
     ]
    },
    {
     "name": "stdout",
     "output_type": "stream",
     "text": [
      "178.7091210613597\n",
      "17.57800466366419\n",
      "10.09143688358887\n"
     ]
    },
    {
     "name": "stderr",
     "output_type": "stream",
     "text": [
      " 73%|███████▎  | 218/300 [02:17<00:54,  1.50it/s]"
     ]
    },
    {
     "name": "stdout",
     "output_type": "stream",
     "text": [
      "179.53156440022096\n",
      "17.682272261270345\n",
      "10.13706436946901\n"
     ]
    },
    {
     "name": "stderr",
     "output_type": "stream",
     "text": [
      " 73%|███████▎  | 219/300 [02:17<00:53,  1.51it/s]"
     ]
    },
    {
     "name": "stdout",
     "output_type": "stream",
     "text": [
      "180.360641238253\n",
      "17.738018359292017\n",
      "10.180042735041601\n"
     ]
    },
    {
     "name": "stderr",
     "output_type": "stream",
     "text": [
      " 73%|███████▎  | 220/300 [02:18<00:52,  1.52it/s]"
     ]
    },
    {
     "name": "stdout",
     "output_type": "stream",
     "text": [
      "181.17589828634587\n",
      "17.855698032067167\n",
      "10.227404721974446\n"
     ]
    },
    {
     "name": "stderr",
     "output_type": "stream",
     "text": [
      " 74%|███████▎  | 221/300 [02:19<00:51,  1.53it/s]"
     ]
    },
    {
     "name": "stdout",
     "output_type": "stream",
     "text": [
      "181.99856274184614\n",
      "17.896061891745465\n",
      "10.284233912409\n"
     ]
    },
    {
     "name": "stderr",
     "output_type": "stream",
     "text": [
      " 74%|███████▍  | 222/300 [02:19<00:51,  1.51it/s]"
     ]
    },
    {
     "name": "stdout",
     "output_type": "stream",
     "text": [
      "182.81967938087323\n",
      "17.96057723117105\n",
      "10.330530661316633\n"
     ]
    },
    {
     "name": "stderr",
     "output_type": "stream",
     "text": [
      " 74%|███████▍  | 223/300 [02:20<00:50,  1.53it/s]"
     ]
    },
    {
     "name": "stdout",
     "output_type": "stream",
     "text": [
      "183.63869541182956\n",
      "18.086706948558334\n",
      "10.367108658468208\n"
     ]
    },
    {
     "name": "stderr",
     "output_type": "stream",
     "text": [
      " 75%|███████▍  | 224/300 [02:20<00:48,  1.55it/s]"
     ]
    },
    {
     "name": "stdout",
     "output_type": "stream",
     "text": [
      "184.47318960751778\n",
      "18.122099128664665\n",
      "10.417844848281177\n"
     ]
    },
    {
     "name": "stderr",
     "output_type": "stream",
     "text": [
      " 75%|███████▌  | 225/300 [02:21<00:47,  1.56it/s]"
     ]
    },
    {
     "name": "stdout",
     "output_type": "stream",
     "text": [
      "185.30226644554983\n",
      "18.20214517401059\n",
      "10.458701109696523\n"
     ]
    },
    {
     "name": "stderr",
     "output_type": "stream",
     "text": [
      " 75%|███████▌  | 226/300 [02:22<00:48,  1.54it/s]"
     ]
    },
    {
     "name": "stdout",
     "output_type": "stream",
     "text": [
      "186.12117191818666\n",
      "18.289975184002067\n",
      "10.502399156847286\n"
     ]
    },
    {
     "name": "stderr",
     "output_type": "stream",
     "text": [
      " 76%|███████▌  | 227/300 [02:22<00:47,  1.53it/s]"
     ]
    },
    {
     "name": "stdout",
     "output_type": "stream",
     "text": [
      "186.95058043117726\n",
      "18.351993237757483\n",
      "10.549480960318355\n"
     ]
    },
    {
     "name": "stderr",
     "output_type": "stream",
     "text": [
      " 76%|███████▌  | 228/300 [02:23<00:47,  1.53it/s]"
     ]
    },
    {
     "name": "stdout",
     "output_type": "stream",
     "text": [
      "187.77302377003852\n",
      "18.45626083536364\n",
      "10.595108446198497\n"
     ]
    },
    {
     "name": "stderr",
     "output_type": "stream",
     "text": [
      " 76%|███████▋  | 229/300 [02:24<00:46,  1.54it/s]"
     ]
    },
    {
     "name": "stdout",
     "output_type": "stream",
     "text": [
      "188.60210060807057\n",
      "18.51200693338531\n",
      "10.638086811771087\n"
     ]
    },
    {
     "name": "stderr",
     "output_type": "stream",
     "text": [
      " 77%|███████▋  | 230/300 [02:24<00:45,  1.54it/s]"
     ]
    },
    {
     "name": "stdout",
     "output_type": "stream",
     "text": [
      "189.41735765616343\n",
      "18.629686606160462\n",
      "10.685448798703932\n"
     ]
    },
    {
     "name": "stderr",
     "output_type": "stream",
     "text": [
      " 77%|███████▋  | 231/300 [02:25<00:44,  1.53it/s]"
     ]
    },
    {
     "name": "stdout",
     "output_type": "stream",
     "text": [
      "190.2400221116637\n",
      "18.67005046583876\n",
      "10.742277989138486\n"
     ]
    },
    {
     "name": "stderr",
     "output_type": "stream",
     "text": [
      " 77%|███████▋  | 232/300 [02:26<00:44,  1.51it/s]"
     ]
    },
    {
     "name": "stdout",
     "output_type": "stream",
     "text": [
      "191.0611387506908\n",
      "18.734565805264346\n",
      "10.788574738046119\n"
     ]
    },
    {
     "name": "stderr",
     "output_type": "stream",
     "text": [
      " 78%|███████▊  | 233/300 [02:26<00:43,  1.52it/s]"
     ]
    },
    {
     "name": "stdout",
     "output_type": "stream",
     "text": [
      "191.88015478164712\n",
      "18.86069552265163\n",
      "10.825152735197694\n"
     ]
    },
    {
     "name": "stderr",
     "output_type": "stream",
     "text": [
      " 78%|███████▊  | 234/300 [02:27<00:43,  1.53it/s]"
     ]
    },
    {
     "name": "stdout",
     "output_type": "stream",
     "text": [
      "192.71464897733534\n",
      "18.89608770275796\n",
      "10.875888925010663\n"
     ]
    },
    {
     "name": "stderr",
     "output_type": "stream",
     "text": [
      " 78%|███████▊  | 235/300 [02:28<00:41,  1.56it/s]"
     ]
    },
    {
     "name": "stdout",
     "output_type": "stream",
     "text": [
      "193.5437258153674\n",
      "18.976133748103884\n",
      "10.91674518642601\n"
     ]
    },
    {
     "name": "stderr",
     "output_type": "stream",
     "text": [
      " 79%|███████▊  | 236/300 [02:28<00:41,  1.55it/s]"
     ]
    },
    {
     "name": "stdout",
     "output_type": "stream",
     "text": [
      "194.36263128800422\n",
      "19.063963758095362\n",
      "10.960443233576772\n"
     ]
    },
    {
     "name": "stderr",
     "output_type": "stream",
     "text": [
      " 79%|███████▉  | 237/300 [02:29<00:40,  1.54it/s]"
     ]
    },
    {
     "name": "stdout",
     "output_type": "stream",
     "text": [
      "195.19203980099482\n",
      "19.125981811850778\n",
      "11.007525037047841\n"
     ]
    },
    {
     "name": "stderr",
     "output_type": "stream",
     "text": [
      " 79%|███████▉  | 238/300 [02:30<00:40,  1.54it/s]"
     ]
    },
    {
     "name": "stdout",
     "output_type": "stream",
     "text": [
      "196.01448313985608\n",
      "19.230249409456935\n",
      "11.053152522927983\n"
     ]
    },
    {
     "name": "stderr",
     "output_type": "stream",
     "text": [
      " 80%|███████▉  | 239/300 [02:30<00:39,  1.55it/s]"
     ]
    },
    {
     "name": "stdout",
     "output_type": "stream",
     "text": [
      "196.84355997788813\n",
      "19.285995507478606\n",
      "11.096130888500573\n"
     ]
    },
    {
     "name": "stderr",
     "output_type": "stream",
     "text": [
      " 80%|████████  | 240/300 [02:31<00:38,  1.56it/s]"
     ]
    },
    {
     "name": "stdout",
     "output_type": "stream",
     "text": [
      "197.658817025981\n",
      "19.403675180253757\n",
      "11.143492875433418\n"
     ]
    },
    {
     "name": "stderr",
     "output_type": "stream",
     "text": [
      " 80%|████████  | 241/300 [02:31<00:38,  1.55it/s]"
     ]
    },
    {
     "name": "stdout",
     "output_type": "stream",
     "text": [
      "198.48148148148127\n",
      "19.444039039932054\n",
      "11.200322065867972\n"
     ]
    },
    {
     "name": "stderr",
     "output_type": "stream",
     "text": [
      " 81%|████████  | 242/300 [02:32<00:37,  1.54it/s]"
     ]
    },
    {
     "name": "stdout",
     "output_type": "stream",
     "text": [
      "199.30259812050835\n",
      "19.50855437935764\n",
      "11.246618814775605\n"
     ]
    },
    {
     "name": "stderr",
     "output_type": "stream",
     "text": [
      " 81%|████████  | 243/300 [02:33<00:37,  1.54it/s]"
     ]
    },
    {
     "name": "stdout",
     "output_type": "stream",
     "text": [
      "200.12161415146468\n",
      "19.634684096744923\n",
      "11.28319681192718\n"
     ]
    },
    {
     "name": "stderr",
     "output_type": "stream",
     "text": [
      " 81%|████████▏ | 244/300 [02:33<00:36,  1.55it/s]"
     ]
    },
    {
     "name": "stdout",
     "output_type": "stream",
     "text": [
      "200.9561083471529\n",
      "19.670076276851255\n",
      "11.33393300174015\n"
     ]
    },
    {
     "name": "stderr",
     "output_type": "stream",
     "text": [
      " 82%|████████▏ | 245/300 [02:34<00:35,  1.56it/s]"
     ]
    },
    {
     "name": "stdout",
     "output_type": "stream",
     "text": [
      "201.78518518518496\n",
      "19.75012232219718\n",
      "11.374789263155495\n"
     ]
    },
    {
     "name": "stderr",
     "output_type": "stream",
     "text": [
      " 82%|████████▏ | 246/300 [02:35<00:35,  1.54it/s]"
     ]
    },
    {
     "name": "stdout",
     "output_type": "stream",
     "text": [
      "202.60409065782179\n",
      "19.837952332188657\n",
      "11.418487310306258\n"
     ]
    },
    {
     "name": "stderr",
     "output_type": "stream",
     "text": [
      " 82%|████████▏ | 247/300 [02:35<00:34,  1.53it/s]"
     ]
    },
    {
     "name": "stdout",
     "output_type": "stream",
     "text": [
      "203.43349917081238\n",
      "19.899970385944073\n",
      "11.465569113777327\n"
     ]
    },
    {
     "name": "stderr",
     "output_type": "stream",
     "text": [
      " 83%|████████▎ | 248/300 [02:36<00:33,  1.53it/s]"
     ]
    },
    {
     "name": "stdout",
     "output_type": "stream",
     "text": [
      "204.25594250967364\n",
      "20.00423798355023\n",
      "11.511196599657469\n"
     ]
    },
    {
     "name": "stderr",
     "output_type": "stream",
     "text": [
      " 83%|████████▎ | 249/300 [02:37<00:33,  1.54it/s]"
     ]
    },
    {
     "name": "stdout",
     "output_type": "stream",
     "text": [
      "205.0850193477057\n",
      "20.0599840815719\n",
      "11.55417496523006\n"
     ]
    },
    {
     "name": "stderr",
     "output_type": "stream",
     "text": [
      " 83%|████████▎ | 250/300 [02:37<00:32,  1.54it/s]"
     ]
    },
    {
     "name": "stdout",
     "output_type": "stream",
     "text": [
      "205.90027639579856\n",
      "20.17766375434705\n",
      "11.601536952162904\n"
     ]
    },
    {
     "name": "stderr",
     "output_type": "stream",
     "text": [
      " 84%|████████▎ | 251/300 [02:38<00:32,  1.53it/s]"
     ]
    },
    {
     "name": "stdout",
     "output_type": "stream",
     "text": [
      "206.72294085129883\n",
      "20.21802761402535\n",
      "11.658366142597458\n"
     ]
    },
    {
     "name": "stderr",
     "output_type": "stream",
     "text": [
      " 84%|████████▍ | 252/300 [02:39<00:31,  1.52it/s]"
     ]
    },
    {
     "name": "stdout",
     "output_type": "stream",
     "text": [
      "207.5440574903259\n",
      "20.282542953450935\n",
      "11.704662891505091\n"
     ]
    },
    {
     "name": "stderr",
     "output_type": "stream",
     "text": [
      " 84%|████████▍ | 253/300 [02:39<00:30,  1.52it/s]"
     ]
    },
    {
     "name": "stdout",
     "output_type": "stream",
     "text": [
      "208.36307352128225\n",
      "20.408672670838218\n",
      "11.741240888656666\n"
     ]
    },
    {
     "name": "stderr",
     "output_type": "stream",
     "text": [
      " 85%|████████▍ | 254/300 [02:40<00:30,  1.52it/s]"
     ]
    },
    {
     "name": "stdout",
     "output_type": "stream",
     "text": [
      "209.19756771697047\n",
      "20.44406485094455\n",
      "11.791977078469635\n"
     ]
    },
    {
     "name": "stderr",
     "output_type": "stream",
     "text": [
      " 85%|████████▌ | 255/300 [02:41<00:28,  1.55it/s]"
     ]
    },
    {
     "name": "stdout",
     "output_type": "stream",
     "text": [
      "210.02664455500252\n",
      "20.524110896290473\n",
      "11.832833339884981\n"
     ]
    },
    {
     "name": "stderr",
     "output_type": "stream",
     "text": [
      " 85%|████████▌ | 256/300 [02:41<00:28,  1.52it/s]"
     ]
    },
    {
     "name": "stdout",
     "output_type": "stream",
     "text": [
      "210.84555002763935\n",
      "20.61194090628195\n",
      "11.876531387035744\n"
     ]
    },
    {
     "name": "stderr",
     "output_type": "stream",
     "text": [
      " 86%|████████▌ | 257/300 [02:42<00:28,  1.52it/s]"
     ]
    },
    {
     "name": "stdout",
     "output_type": "stream",
     "text": [
      "211.67495854062994\n",
      "20.673958960037368\n",
      "11.923613190506813\n"
     ]
    },
    {
     "name": "stderr",
     "output_type": "stream",
     "text": [
      " 86%|████████▌ | 258/300 [02:43<00:27,  1.53it/s]"
     ]
    },
    {
     "name": "stdout",
     "output_type": "stream",
     "text": [
      "212.4974018794912\n",
      "20.778226557643524\n",
      "11.969240676386955\n"
     ]
    },
    {
     "name": "stderr",
     "output_type": "stream",
     "text": [
      " 86%|████████▋ | 259/300 [02:43<00:26,  1.54it/s]"
     ]
    },
    {
     "name": "stdout",
     "output_type": "stream",
     "text": [
      "213.32647871752326\n",
      "20.833972655665196\n",
      "12.012219041959545\n"
     ]
    },
    {
     "name": "stderr",
     "output_type": "stream",
     "text": [
      " 87%|████████▋ | 260/300 [02:44<00:25,  1.55it/s]"
     ]
    },
    {
     "name": "stdout",
     "output_type": "stream",
     "text": [
      "214.14173576561612\n",
      "20.951652328440346\n",
      "12.05958102889239\n"
     ]
    },
    {
     "name": "stderr",
     "output_type": "stream",
     "text": [
      " 87%|████████▋ | 261/300 [02:45<00:25,  1.54it/s]"
     ]
    },
    {
     "name": "stdout",
     "output_type": "stream",
     "text": [
      "214.9644002211164\n",
      "20.992016188118644\n",
      "12.116410219326944\n"
     ]
    },
    {
     "name": "stderr",
     "output_type": "stream",
     "text": [
      " 87%|████████▋ | 262/300 [02:45<00:24,  1.52it/s]"
     ]
    },
    {
     "name": "stdout",
     "output_type": "stream",
     "text": [
      "215.78551686014347\n",
      "21.05653152754423\n",
      "12.162706968234577\n"
     ]
    },
    {
     "name": "stderr",
     "output_type": "stream",
     "text": [
      " 88%|████████▊ | 263/300 [02:46<00:24,  1.54it/s]"
     ]
    },
    {
     "name": "stdout",
     "output_type": "stream",
     "text": [
      "216.6045328910998\n",
      "21.182661244931513\n",
      "12.199284965386152\n"
     ]
    },
    {
     "name": "stderr",
     "output_type": "stream",
     "text": [
      " 88%|████████▊ | 264/300 [02:46<00:23,  1.55it/s]"
     ]
    },
    {
     "name": "stdout",
     "output_type": "stream",
     "text": [
      "217.43902708678803\n",
      "21.218053425037844\n",
      "12.250021155199121\n"
     ]
    },
    {
     "name": "stderr",
     "output_type": "stream",
     "text": [
      " 88%|████████▊ | 265/300 [02:47<00:22,  1.57it/s]"
     ]
    },
    {
     "name": "stdout",
     "output_type": "stream",
     "text": [
      "218.26810392482008\n",
      "21.298099470383768\n",
      "12.290877416614467\n"
     ]
    },
    {
     "name": "stderr",
     "output_type": "stream",
     "text": [
      " 89%|████████▊ | 266/300 [02:48<00:22,  1.54it/s]"
     ]
    },
    {
     "name": "stdout",
     "output_type": "stream",
     "text": [
      "219.0870093974569\n",
      "21.385929480375246\n",
      "12.33457546376523\n"
     ]
    },
    {
     "name": "stderr",
     "output_type": "stream",
     "text": [
      " 89%|████████▉ | 267/300 [02:48<00:21,  1.53it/s]"
     ]
    },
    {
     "name": "stdout",
     "output_type": "stream",
     "text": [
      "219.9164179104475\n",
      "21.447947534130662\n",
      "12.3816572672363\n"
     ]
    },
    {
     "name": "stderr",
     "output_type": "stream",
     "text": [
      " 89%|████████▉ | 268/300 [02:49<00:21,  1.52it/s]"
     ]
    },
    {
     "name": "stdout",
     "output_type": "stream",
     "text": [
      "220.73886124930877\n",
      "21.55221513173682\n",
      "12.42728475311644\n"
     ]
    },
    {
     "name": "stderr",
     "output_type": "stream",
     "text": [
      " 90%|████████▉ | 269/300 [02:50<00:20,  1.53it/s]"
     ]
    },
    {
     "name": "stdout",
     "output_type": "stream",
     "text": [
      "221.56793808734082\n",
      "21.60796122975849\n",
      "12.470263118689031\n"
     ]
    },
    {
     "name": "stderr",
     "output_type": "stream",
     "text": [
      " 90%|█████████ | 270/300 [02:50<00:19,  1.54it/s]"
     ]
    },
    {
     "name": "stdout",
     "output_type": "stream",
     "text": [
      "222.38319513543368\n",
      "21.72564090253364\n",
      "12.517625105621876\n"
     ]
    },
    {
     "name": "stderr",
     "output_type": "stream",
     "text": [
      " 90%|█████████ | 271/300 [02:51<00:18,  1.54it/s]"
     ]
    },
    {
     "name": "stdout",
     "output_type": "stream",
     "text": [
      "223.20585959093395\n",
      "21.76600476221194\n",
      "12.57445429605643\n"
     ]
    },
    {
     "name": "stderr",
     "output_type": "stream",
     "text": [
      " 91%|█████████ | 272/300 [02:52<00:18,  1.54it/s]"
     ]
    },
    {
     "name": "stdout",
     "output_type": "stream",
     "text": [
      "224.02697622996104\n",
      "21.830520101637525\n",
      "12.620751044964063\n"
     ]
    },
    {
     "name": "stderr",
     "output_type": "stream",
     "text": [
      " 91%|█████████ | 273/300 [02:52<00:17,  1.54it/s]"
     ]
    },
    {
     "name": "stdout",
     "output_type": "stream",
     "text": [
      "224.84599226091737\n",
      "21.956649819024808\n",
      "12.657329042115638\n"
     ]
    },
    {
     "name": "stderr",
     "output_type": "stream",
     "text": [
      " 91%|█████████▏| 274/300 [02:53<00:16,  1.55it/s]"
     ]
    },
    {
     "name": "stdout",
     "output_type": "stream",
     "text": [
      "225.6804864566056\n",
      "21.99204199913114\n",
      "12.708065231928607\n"
     ]
    },
    {
     "name": "stderr",
     "output_type": "stream",
     "text": [
      " 92%|█████████▏| 275/300 [02:54<00:15,  1.58it/s]"
     ]
    },
    {
     "name": "stdout",
     "output_type": "stream",
     "text": [
      "226.50956329463764\n",
      "22.072088044477063\n",
      "12.748921493343953\n"
     ]
    },
    {
     "name": "stderr",
     "output_type": "stream",
     "text": [
      " 92%|█████████▏| 276/300 [02:54<00:15,  1.55it/s]"
     ]
    },
    {
     "name": "stdout",
     "output_type": "stream",
     "text": [
      "227.32846876727447\n",
      "22.15991805446854\n",
      "12.792619540494716\n"
     ]
    },
    {
     "name": "stderr",
     "output_type": "stream",
     "text": [
      " 92%|█████████▏| 277/300 [02:55<00:14,  1.54it/s]"
     ]
    },
    {
     "name": "stdout",
     "output_type": "stream",
     "text": [
      "228.15787728026507\n",
      "22.221936108223957\n",
      "12.839701343965785\n"
     ]
    },
    {
     "name": "stderr",
     "output_type": "stream",
     "text": [
      " 93%|█████████▎| 278/300 [02:56<00:14,  1.55it/s]"
     ]
    },
    {
     "name": "stdout",
     "output_type": "stream",
     "text": [
      "228.98032061912633\n",
      "22.326203705830114\n",
      "12.885328829845927\n"
     ]
    },
    {
     "name": "stderr",
     "output_type": "stream",
     "text": [
      " 93%|█████████▎| 279/300 [02:56<00:13,  1.56it/s]"
     ]
    },
    {
     "name": "stdout",
     "output_type": "stream",
     "text": [
      "229.80939745715838\n",
      "22.381949803851786\n",
      "12.928307195418517\n"
     ]
    },
    {
     "name": "stderr",
     "output_type": "stream",
     "text": [
      " 93%|█████████▎| 280/300 [02:57<00:12,  1.55it/s]"
     ]
    },
    {
     "name": "stdout",
     "output_type": "stream",
     "text": [
      "230.62465450525124\n",
      "22.499629476626936\n",
      "12.975669182351362\n"
     ]
    },
    {
     "name": "stderr",
     "output_type": "stream",
     "text": [
      " 94%|█████████▎| 281/300 [02:57<00:12,  1.52it/s]"
     ]
    },
    {
     "name": "stdout",
     "output_type": "stream",
     "text": [
      "231.44731896075152\n",
      "22.539993336305233\n",
      "13.032498372785916\n"
     ]
    },
    {
     "name": "stderr",
     "output_type": "stream",
     "text": [
      " 94%|█████████▍| 282/300 [02:58<00:11,  1.52it/s]"
     ]
    },
    {
     "name": "stdout",
     "output_type": "stream",
     "text": [
      "232.2684355997786\n",
      "22.60450867573082\n",
      "13.078795121693549\n"
     ]
    },
    {
     "name": "stderr",
     "output_type": "stream",
     "text": [
      " 94%|█████████▍| 283/300 [02:59<00:11,  1.52it/s]"
     ]
    },
    {
     "name": "stdout",
     "output_type": "stream",
     "text": [
      "233.08745163073493\n",
      "22.730638393118102\n",
      "13.115373118845124\n"
     ]
    },
    {
     "name": "stderr",
     "output_type": "stream",
     "text": [
      " 95%|█████████▍| 284/300 [02:59<00:10,  1.51it/s]"
     ]
    },
    {
     "name": "stdout",
     "output_type": "stream",
     "text": [
      "233.92194582642315\n",
      "22.766030573224434\n",
      "13.166109308658093\n"
     ]
    },
    {
     "name": "stderr",
     "output_type": "stream",
     "text": [
      " 95%|█████████▌| 285/300 [03:00<00:09,  1.54it/s]"
     ]
    },
    {
     "name": "stdout",
     "output_type": "stream",
     "text": [
      "234.7510226644552\n",
      "22.846076618570358\n",
      "13.20696557007344\n"
     ]
    },
    {
     "name": "stderr",
     "output_type": "stream",
     "text": [
      " 95%|█████████▌| 286/300 [03:01<00:09,  1.51it/s]"
     ]
    },
    {
     "name": "stdout",
     "output_type": "stream",
     "text": [
      "235.56992813709203\n",
      "22.933906628561836\n",
      "13.250663617224202\n"
     ]
    },
    {
     "name": "stderr",
     "output_type": "stream",
     "text": [
      " 96%|█████████▌| 287/300 [03:01<00:08,  1.50it/s]"
     ]
    },
    {
     "name": "stdout",
     "output_type": "stream",
     "text": [
      "236.39933665008263\n",
      "22.995924682317252\n",
      "13.297745420695271\n"
     ]
    },
    {
     "name": "stderr",
     "output_type": "stream",
     "text": [
      " 96%|█████████▌| 288/300 [03:02<00:07,  1.53it/s]"
     ]
    },
    {
     "name": "stdout",
     "output_type": "stream",
     "text": [
      "237.2217799889439\n",
      "23.10019227992341\n",
      "13.343372906575413\n"
     ]
    },
    {
     "name": "stderr",
     "output_type": "stream",
     "text": [
      " 96%|█████████▋| 289/300 [03:03<00:07,  1.52it/s]"
     ]
    },
    {
     "name": "stdout",
     "output_type": "stream",
     "text": [
      "238.05085682697595\n",
      "23.15593837794508\n",
      "13.386351272148003\n"
     ]
    },
    {
     "name": "stderr",
     "output_type": "stream",
     "text": [
      " 97%|█████████▋| 290/300 [03:03<00:06,  1.54it/s]"
     ]
    },
    {
     "name": "stdout",
     "output_type": "stream",
     "text": [
      "238.8661138750688\n",
      "23.27361805072023\n",
      "13.433713259080848\n"
     ]
    },
    {
     "name": "stderr",
     "output_type": "stream",
     "text": [
      " 97%|█████████▋| 291/300 [03:04<00:05,  1.54it/s]"
     ]
    },
    {
     "name": "stdout",
     "output_type": "stream",
     "text": [
      "239.68877833056908\n",
      "23.313981910398528\n",
      "13.490542449515402\n"
     ]
    },
    {
     "name": "stderr",
     "output_type": "stream",
     "text": [
      " 97%|█████████▋| 292/300 [03:05<00:05,  1.53it/s]"
     ]
    },
    {
     "name": "stdout",
     "output_type": "stream",
     "text": [
      "240.50989496959616\n",
      "23.378497249824115\n",
      "13.536839198423035\n"
     ]
    },
    {
     "name": "stderr",
     "output_type": "stream",
     "text": [
      " 98%|█████████▊| 293/300 [03:05<00:04,  1.53it/s]"
     ]
    },
    {
     "name": "stdout",
     "output_type": "stream",
     "text": [
      "241.3289110005525\n",
      "23.504626967211397\n",
      "13.57341719557461\n"
     ]
    },
    {
     "name": "stderr",
     "output_type": "stream",
     "text": [
      " 98%|█████████▊| 294/300 [03:06<00:03,  1.54it/s]"
     ]
    },
    {
     "name": "stdout",
     "output_type": "stream",
     "text": [
      "242.16340519624072\n",
      "23.54001914731773\n",
      "13.62415338538758\n"
     ]
    },
    {
     "name": "stderr",
     "output_type": "stream",
     "text": [
      " 98%|█████████▊| 295/300 [03:07<00:03,  1.56it/s]"
     ]
    },
    {
     "name": "stdout",
     "output_type": "stream",
     "text": [
      "242.99248203427277\n",
      "23.620065192663652\n",
      "13.665009646802925\n"
     ]
    },
    {
     "name": "stderr",
     "output_type": "stream",
     "text": [
      " 99%|█████████▊| 296/300 [03:07<00:02,  1.53it/s]"
     ]
    },
    {
     "name": "stdout",
     "output_type": "stream",
     "text": [
      "243.8113875069096\n",
      "23.70789520265513\n",
      "13.708707693953688\n"
     ]
    },
    {
     "name": "stderr",
     "output_type": "stream",
     "text": [
      " 99%|█████████▉| 297/300 [03:08<00:01,  1.53it/s]"
     ]
    },
    {
     "name": "stdout",
     "output_type": "stream",
     "text": [
      "244.6407960199002\n",
      "23.769913256410547\n",
      "13.755789497424757\n"
     ]
    },
    {
     "name": "stderr",
     "output_type": "stream",
     "text": [
      " 99%|█████████▉| 298/300 [03:09<00:01,  1.53it/s]"
     ]
    },
    {
     "name": "stdout",
     "output_type": "stream",
     "text": [
      "245.46323935876146\n",
      "23.874180854016704\n",
      "13.801416983304899\n"
     ]
    },
    {
     "name": "stderr",
     "output_type": "stream",
     "text": [
      "100%|█████████▉| 299/300 [03:09<00:00,  1.54it/s]"
     ]
    },
    {
     "name": "stdout",
     "output_type": "stream",
     "text": [
      "246.2923161967935\n",
      "23.929926952038375\n",
      "13.84439534887749\n"
     ]
    },
    {
     "name": "stderr",
     "output_type": "stream",
     "text": [
      "100%|██████████| 300/300 [03:10<00:00,  1.58it/s]"
     ]
    },
    {
     "name": "stdout",
     "output_type": "stream",
     "text": [
      "247.10757324488637\n",
      "24.047606624813525\n",
      "13.891757335810334\n",
      "0.8236919108162879\n",
      "0.08015868874937841\n",
      "0.046305857786034445\n"
     ]
    },
    {
     "name": "stderr",
     "output_type": "stream",
     "text": [
      "\n"
     ]
    }
   ],
   "source": [
    "mis = 0\n",
    "deoo = 0\n",
    "dpe = 0\n",
    "for step in tqdm(range(300)):\n",
    "    dataset_orig_train, dataset_orig_vt = dataset_orig.split([0.6], shuffle=True, seed = np.random.randint(0, 10000))\n",
    "    dataset_orig_valid, dataset_orig_test = dataset_orig_vt.split([0.5], shuffle=True, seed = np.random.randint(0, 10000))\n",
    "    # Placeholder for predicted and transformed datasets\n",
    "    dataset_orig_train_pred = dataset_orig_train.copy(deepcopy=True)\n",
    "    dataset_orig_valid_pred = dataset_orig_valid.copy(deepcopy=True)\n",
    "    dataset_orig_test_pred = dataset_orig_test.copy(deepcopy=True)\n",
    "\n",
    "    dataset_new_valid_pred = dataset_orig_valid.copy(deepcopy=True)\n",
    "    dataset_new_test_pred = dataset_orig_test.copy(deepcopy=True)\n",
    "\n",
    "    # Logistic regression classifier and predictions for training data\n",
    "    scale_orig = StandardScaler()\n",
    "    X_train = scale_orig.fit_transform(dataset_orig_train.features)\n",
    "    y_train = dataset_orig_train.labels.ravel()\n",
    "    lmod = LogisticRegression()\n",
    "    lmod.fit(X_train, y_train)\n",
    "\n",
    "    fav_idx = np.where(lmod.classes_ == dataset_orig_train.favorable_label)[0][0]\n",
    "    y_train_pred_prob = lmod.predict_proba(X_train)[:,fav_idx]\n",
    "\n",
    "    # Prediction probs for validation and testing data\n",
    "    X_valid = scale_orig.transform(dataset_orig_valid.features)\n",
    "    y_valid_pred_prob = lmod.predict_proba(X_valid)[:,fav_idx]\n",
    "\n",
    "    X_test = scale_orig.transform(dataset_orig_test.features)\n",
    "    y_test_pred_prob = lmod.predict_proba(X_test)[:,fav_idx]\n",
    "    y_test = dataset_orig_test.labels.ravel()\n",
    "\n",
    "    class_thresh = 0.5\n",
    "    dataset_orig_train_pred.scores = y_train_pred_prob.reshape(-1,1)\n",
    "    dataset_orig_valid_pred.scores = y_valid_pred_prob.reshape(-1,1)\n",
    "    dataset_orig_test_pred.scores = y_test_pred_prob.reshape(-1,1)\n",
    "\n",
    "    y_train_pred = np.zeros_like(dataset_orig_train_pred.labels)\n",
    "    y_train_pred[y_train_pred_prob >= class_thresh] = dataset_orig_train_pred.favorable_label\n",
    "    y_train_pred[~(y_train_pred_prob >= class_thresh)] = dataset_orig_train_pred.unfavorable_label\n",
    "    dataset_orig_train_pred.labels = y_train_pred\n",
    "\n",
    "    y_valid_pred = np.zeros_like(dataset_orig_valid_pred.labels)\n",
    "    y_valid_pred[y_valid_pred_prob >= class_thresh] = dataset_orig_valid_pred.favorable_label\n",
    "    y_valid_pred[~(y_valid_pred_prob >= class_thresh)] = dataset_orig_valid_pred.unfavorable_label\n",
    "    dataset_orig_valid_pred.labels = y_valid_pred\n",
    "        \n",
    "    y_test_pred = np.zeros_like(dataset_orig_test_pred.labels)\n",
    "    y_test_pred[y_test_pred_prob >= class_thresh] = dataset_orig_test_pred.favorable_label\n",
    "    y_test_pred[~(y_test_pred_prob >= class_thresh)] = dataset_orig_test_pred.unfavorable_label\n",
    "    dataset_orig_test_pred.labels = y_test_pred\n",
    "\n",
    "    # Learn parameters to equalize odds and apply to create a new dataset\n",
    "    cpp = CalibratedEqOddsPostprocessing(privileged_groups = privileged_groups,\n",
    "                                         unprivileged_groups = unprivileged_groups,\n",
    "                                         cost_constraint=cost_constraint,\n",
    "                                         seed=randseed)\n",
    "    cpp = cpp.fit(dataset_orig_valid, dataset_orig_valid_pred)\n",
    "\n",
    "    # cpp = EqOddsPostprocessing(privileged_groups = privileged_groups,\n",
    "    #                                     unprivileged_groups = unprivileged_groups,\n",
    "    #                                     seed=randseed)\n",
    "    # cpp = cpp.fit(dataset_orig_valid, dataset_orig_valid_pred)\n",
    "\n",
    "    dataset_transf_valid_pred = cpp.predict(dataset_orig_valid_pred)\n",
    "    dataset_transf_test_pred = cpp.predict(dataset_orig_test_pred)\n",
    "    eq = 0\n",
    "    for i in range(len(y_test)):\n",
    "        if(dataset_transf_test_pred.labels.ravel()[i] == y_test[i]):\n",
    "            eq += 1\n",
    "    mis += eq / len(y_test)\n",
    "    n_10 = 0\n",
    "    n_11 = 0\n",
    "    c_10 = 0\n",
    "    c_11 = 0\n",
    "    for i in range(len(y_test)):\n",
    "        if(y_test[i] == 1 and dataset_transf_test_pred.protected_attributes[:,1][i] == 0):\n",
    "            n_10 += 1\n",
    "            if(dataset_transf_test_pred.labels.ravel()[i] == 1):\n",
    "                c_10 += 1\n",
    "        elif(y_test[i] == 1 and dataset_transf_test_pred.protected_attributes[:,1][i] == 1):\n",
    "            n_11 += 1\n",
    "            if(dataset_transf_test_pred.labels.ravel()[i] == 1):\n",
    "                c_11 += 1\n",
    "    deoo += abs(c_10 / n_10 - c_11 / n_11)\n",
    "    n_00 = 0\n",
    "    n_01 = 0\n",
    "    c_00 = 0\n",
    "    c_01 = 0\n",
    "    for i in range(len(y_test)):\n",
    "        if(y_test[i] == 0 and dataset_transf_test_pred.protected_attributes[:,1][i] == 0):\n",
    "            n_00 += 1\n",
    "            if(dataset_transf_test_pred.labels.ravel()[i] == 1):\n",
    "                c_00 += 1\n",
    "        elif(y_test[i] == 0 and dataset_transf_test_pred.protected_attributes[:,1][i] == 1):\n",
    "            n_01 += 1\n",
    "            if(dataset_transf_test_pred.labels.ravel()[i] == 1):\n",
    "                c_01 += 1\n",
    "    dpe += abs(c_00 / n_00 - c_01 / n_01)\n",
    "    print(mis)\n",
    "    print(deoo)\n",
    "    print(dpe)\n",
    "print(mis/ 300)\n",
    "print(deoo / 300)\n",
    "print(dpe / 300)"
   ]
  },
  {
   "cell_type": "code",
   "execution_count": null,
   "metadata": {},
   "outputs": [],
   "source": [
    "print(y_test)"
   ]
  },
  {
   "cell_type": "markdown",
   "metadata": {},
   "source": [
    "### Perform odds equalizing post processing on scores"
   ]
  },
  {
   "cell_type": "markdown",
   "metadata": {},
   "source": [
    "### Transform validation and test data using the post processing algorithm"
   ]
  },
  {
   "cell_type": "code",
   "execution_count": 41,
   "metadata": {},
   "outputs": [
    {
     "name": "stdout",
     "output_type": "stream",
     "text": [
      "-0.052362089201877904\n"
     ]
    }
   ],
   "source": [
    "n_10 = 0\n",
    "n_11 = 0\n",
    "c_10 = 0\n",
    "c_11 = 0\n",
    "for i in range(len(y_test)):\n",
    "    if(y_test[i] == 1 and dataset_orig_test_pred.protected_attributes[:,1][i] == 0):\n",
    "        n_10 += 1\n",
    "        if(dataset_orig_test_pred.labels.ravel()[i] == 1):\n",
    "            c_10 += 1\n",
    "    elif(y_test[i] == 1 and dataset_orig_test_pred.protected_attributes[:,1][i] == 1):\n",
    "        n_11 += 1\n",
    "        if(dataset_orig_test_pred.labels.ravel()[i] == 1):\n",
    "            c_11 += 1\n",
    "DEOO = c_10 / n_10 - c_11 / n_11\n",
    "print(DEOO)"
   ]
  },
  {
   "cell_type": "code",
   "execution_count": 42,
   "metadata": {},
   "outputs": [
    {
     "name": "stdout",
     "output_type": "stream",
     "text": [
      "0.01676203051643188\n"
     ]
    }
   ],
   "source": [
    "n_10 = 0\n",
    "n_11 = 0\n",
    "c_10 = 0\n",
    "c_11 = 0\n",
    "for i in range(len(y_test)):\n",
    "    if(y_test[i] == 1 and dataset_transf_test_pred.protected_attributes[:,1][i] == 0):\n",
    "        n_10 += 1\n",
    "        if(dataset_transf_test_pred.labels.ravel()[i] == 1):\n",
    "            c_10 += 1\n",
    "    elif(y_test[i] == 1 and dataset_transf_test_pred.protected_attributes[:,1][i] == 1):\n",
    "        n_11 += 1\n",
    "        if(dataset_transf_test_pred.labels.ravel()[i] == 1):\n",
    "            c_11 += 1\n",
    "DEOO = c_10 / n_10 - c_11 / n_11\n",
    "print(DEOO)"
   ]
  },
  {
   "cell_type": "code",
   "execution_count": 43,
   "metadata": {},
   "outputs": [
    {
     "name": "stdout",
     "output_type": "stream",
     "text": [
      "-0.08315624777398335\n"
     ]
    }
   ],
   "source": [
    "n_00 = 0\n",
    "n_01 = 0\n",
    "c_00 = 0\n",
    "c_01 = 0\n",
    "for i in range(len(y_test)):\n",
    "    if(y_test[i] == 0 and dataset_orig_test_pred.protected_attributes[:,1][i] == 0):\n",
    "        n_00 += 1\n",
    "        if(dataset_orig_test_pred.labels.ravel()[i] == 1):\n",
    "            c_00 += 1\n",
    "    elif(y_test[i] == 0 and dataset_orig_test_pred.protected_attributes[:,1][i] == 1):\n",
    "        n_01 += 1\n",
    "        if(dataset_orig_test_pred.labels.ravel()[i] == 1):\n",
    "            c_01 += 1\n",
    "DPE = c_00 / n_00 - c_01 / n_01\n",
    "print(DPE)"
   ]
  },
  {
   "cell_type": "code",
   "execution_count": 44,
   "metadata": {},
   "outputs": [
    {
     "name": "stdout",
     "output_type": "stream",
     "text": [
      "0.0009294502432419666\n"
     ]
    }
   ],
   "source": [
    "n_00 = 0\n",
    "n_01 = 0\n",
    "c_00 = 0\n",
    "c_01 = 0\n",
    "for i in range(len(y_test)):\n",
    "    if(y_test[i] == 0 and dataset_transf_test_pred.protected_attributes[:,1][i] == 0):\n",
    "        n_00 += 1\n",
    "        if(dataset_transf_test_pred.labels.ravel()[i] == 1):\n",
    "            c_00 += 1\n",
    "    elif(y_test[i] == 0 and dataset_transf_test_pred.protected_attributes[:,1][i] == 1):\n",
    "        n_01 += 1\n",
    "        if(dataset_transf_test_pred.labels.ravel()[i] == 1):\n",
    "            c_01 += 1\n",
    "DPE = c_00 / n_00 - c_01 / n_01\n",
    "print(DPE)"
   ]
  },
  {
   "cell_type": "code",
   "execution_count": 45,
   "metadata": {},
   "outputs": [],
   "source": [
    "DEO_CEP = np.array([0.09917986743062573, 0.043843592084027834])\n",
    "acc_CEP = 0.814262023217247\n",
    "DEO_EP = np.array([0.016576638027081934, 0.0009415807062945639])\n",
    "acc_EP = 0.8185764510779303\n",
    "413.36561636263207\n",
    "53.54782099587427\n",
    "-23.46021170903661"
   ]
  }
 ],
 "metadata": {
  "kernelspec": {
   "display_name": "Python 3.7.13 ('aif360')",
   "language": "python",
   "name": "python3"
  },
  "language_info": {
   "codemirror_mode": {
    "name": "ipython",
    "version": 3
   },
   "file_extension": ".py",
   "mimetype": "text/x-python",
   "name": "python",
   "nbconvert_exporter": "python",
   "pygments_lexer": "ipython3",
   "version": "3.7.13"
  },
  "vscode": {
   "interpreter": {
    "hash": "d27cd899c2aad711dbfe864d87d8e4a3aa2aa47421b84ce5060d18007824eabc"
   }
  }
 },
 "nbformat": 4,
 "nbformat_minor": 2
}
